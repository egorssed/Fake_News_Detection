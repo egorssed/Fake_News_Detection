{
  "nbformat": 4,
  "nbformat_minor": 0,
  "metadata": {
    "colab": {
      "name": "Psychology Data Analysis.ipynb",
      "provenance": [],
      "collapsed_sections": [
        "pzUAx6WaHegt",
        "Bd5FAWSvHZlN",
        "iGzaXXAHojo1",
        "xMrQd01CrvB5",
        "6JknDH0ysD7D",
        "JKIb4sbysHqN",
        "srTWBx6ksNNq"
      ],
      "toc_visible": true,
      "include_colab_link": true
    },
    "kernelspec": {
      "name": "python3",
      "display_name": "Python 3"
    },
    "language_info": {
      "name": "python"
    }
  },
  "cells": [
    {
      "cell_type": "markdown",
      "metadata": {
        "id": "view-in-github",
        "colab_type": "text"
      },
      "source": [
        "<a href=\"https://colab.research.google.com/github/egorssed/Fake_News_Detection/blob/main/Psychology_Data_Analysis.ipynb\" target=\"_parent\"><img src=\"https://colab.research.google.com/assets/colab-badge.svg\" alt=\"Open In Colab\"/></a>"
      ]
    },
    {
      "cell_type": "code",
      "metadata": {
        "id": "NIyFYZ7bSdgX",
        "colab": {
          "base_uri": "https://localhost:8080/"
        },
        "outputId": "b165fcb4-f074-4e3c-9346-19feb834aa50"
      },
      "source": [
        "from google.colab import drive\n",
        "drive.mount('/content/drive', force_remount= True)"
      ],
      "execution_count": null,
      "outputs": [
        {
          "output_type": "stream",
          "text": [
            "Mounted at /content/drive\n"
          ],
          "name": "stdout"
        }
      ]
    },
    {
      "cell_type": "markdown",
      "metadata": {
        "id": "p9XiECxIjXmd"
      },
      "source": [
        "# Hypothesis"
      ]
    },
    {
      "cell_type": "markdown",
      "metadata": {
        "id": "fIunyzv8kCsw"
      },
      "source": [
        "Given previous research on similar topics, we can pose several hypotheses.   \n",
        "\n",
        "1. Personality traits vs Fake News:   \n",
        "**Originality and Resiliency are positively related to the ability to detect Fake**. Originality and Emotional Stability appear to be positively and strongly associated with interest in and knowledge of politics (Chirumbolo et al. 2010). We suppose that interest and knowledge of politics improve fake news detection performance.  \n",
        "\n",
        "2. Political leaning vs Fake News:   \n",
        "**Fake news detection capabilities are not influenced by (moderate) Political leaning**. It has been found by Van Bavel and Pereira (Van_Bavel & Pereira 2018)\n",
        "\n",
        "3. Personality traits vs Political leaning:   \n",
        "**Conscientiousness, agreeableness, and originality are typically found to predict Political criteria**. It has been found by Chirumbolo et al. (Chirumbolo et al. 2010; Alan et al. 2016).\n"
      ]
    },
    {
      "cell_type": "markdown",
      "metadata": {
        "id": "48TgTjffjZVx"
      },
      "source": [
        "# Load Data"
      ]
    },
    {
      "cell_type": "code",
      "metadata": {
        "id": "Z0rna3hlFNQN"
      },
      "source": [
        "import pandas as pd\n",
        "import matplotlib.pyplot as plt\n",
        "import matplotlib\n",
        "import numpy as np\n",
        "import seaborn as sns\n",
        "from os.path import join\n",
        "import scipy\n",
        "import statsmodels.regression.linear_model as LM\n",
        "from matplotlib.ticker import MaxNLocator\n",
        "\n",
        "plt.rcParams['figure.figsize'] = [7, 5]"
      ],
      "execution_count": null,
      "outputs": []
    },
    {
      "cell_type": "code",
      "metadata": {
        "id": "Q9gGSrkSE90h",
        "colab": {
          "base_uri": "https://localhost:8080/",
          "height": 457
        },
        "outputId": "75cc3885-9973-43fb-f755-f1fdbd9fc0ec"
      },
      "source": [
        "#Folder_path='drive/MyDrive/epfl/Fakenews/StatAnalysis/'\n",
        "Folder_path='/content/drive/My Drive/Psychology/Fake News Detection/'\n",
        "\n",
        "Data_path='Data_anonymized.csv'\n",
        "df=pd.read_csv(join(Folder_path,Data_path),index_col=0)\n",
        "df.head()"
      ],
      "execution_count": null,
      "outputs": [
        {
          "output_type": "execute_result",
          "data": {
            "text/html": [
              "<div>\n",
              "<style scoped>\n",
              "    .dataframe tbody tr th:only-of-type {\n",
              "        vertical-align: middle;\n",
              "    }\n",
              "\n",
              "    .dataframe tbody tr th {\n",
              "        vertical-align: top;\n",
              "    }\n",
              "\n",
              "    .dataframe thead th {\n",
              "        text-align: right;\n",
              "    }\n",
              "</style>\n",
              "<table border=\"1\" class=\"dataframe\">\n",
              "  <thead>\n",
              "    <tr style=\"text-align: right;\">\n",
              "      <th></th>\n",
              "      <th>participant</th>\n",
              "      <th>feed_sample_1:1</th>\n",
              "      <th>feed_sample_1:2</th>\n",
              "      <th>age:1</th>\n",
              "      <th>nationality:1</th>\n",
              "      <th>gender:1</th>\n",
              "      <th>gender:other</th>\n",
              "      <th>education:1</th>\n",
              "      <th>feed1_1:1</th>\n",
              "      <th>feed1_1:2</th>\n",
              "      <th>Abortion FN</th>\n",
              "      <th>feed1_3:2</th>\n",
              "      <th>feed1_2:1</th>\n",
              "      <th>feed1_2:2</th>\n",
              "      <th>Climate TN</th>\n",
              "      <th>feed3_3:2</th>\n",
              "      <th>feed3_1:1</th>\n",
              "      <th>feed3_1:2</th>\n",
              "      <th>feed3_2:1</th>\n",
              "      <th>feed3_2:2</th>\n",
              "      <th>feed4_1:1</th>\n",
              "      <th>feed4_1:2</th>\n",
              "      <th>Domestic violence FN</th>\n",
              "      <th>feed4_3:2</th>\n",
              "      <th>feed4_2:1</th>\n",
              "      <th>feed4_2:2</th>\n",
              "      <th>feed6_1:1</th>\n",
              "      <th>feed6_1:2</th>\n",
              "      <th>Homophobia FN</th>\n",
              "      <th>feed6_3:2</th>\n",
              "      <th>feed6_2:1</th>\n",
              "      <th>feed6_2:2</th>\n",
              "      <th>feed7_1:1</th>\n",
              "      <th>feed7_1:2</th>\n",
              "      <th>feed7_2:1</th>\n",
              "      <th>feed7_2:2</th>\n",
              "      <th>Weed TN</th>\n",
              "      <th>feed7_3:2</th>\n",
              "      <th>FN Loss</th>\n",
              "      <th>FN Score</th>\n",
              "      <th>...</th>\n",
              "      <th>Error</th>\n",
              "      <th>A1</th>\n",
              "      <th>A2</th>\n",
              "      <th>A3</th>\n",
              "      <th>A4</th>\n",
              "      <th>A5</th>\n",
              "      <th>Agreeability</th>\n",
              "      <th>C6</th>\n",
              "      <th>C7</th>\n",
              "      <th>C8</th>\n",
              "      <th>C9</th>\n",
              "      <th>C10</th>\n",
              "      <th>Consciousness</th>\n",
              "      <th>E11</th>\n",
              "      <th>E12</th>\n",
              "      <th>E13</th>\n",
              "      <th>E14</th>\n",
              "      <th>E15</th>\n",
              "      <th>Extroversion</th>\n",
              "      <th>H16</th>\n",
              "      <th>H17</th>\n",
              "      <th>H18</th>\n",
              "      <th>H19</th>\n",
              "      <th>H20</th>\n",
              "      <th>Honesty</th>\n",
              "      <th>O21</th>\n",
              "      <th>O22</th>\n",
              "      <th>O23</th>\n",
              "      <th>O24</th>\n",
              "      <th>O25</th>\n",
              "      <th>Originality</th>\n",
              "      <th>R26</th>\n",
              "      <th>R27</th>\n",
              "      <th>R28</th>\n",
              "      <th>R29</th>\n",
              "      <th>R30</th>\n",
              "      <th>Resiliency</th>\n",
              "      <th>TIME_start</th>\n",
              "      <th>TIME_end</th>\n",
              "      <th>TIME_total</th>\n",
              "    </tr>\n",
              "  </thead>\n",
              "  <tbody>\n",
              "    <tr>\n",
              "      <th>0</th>\n",
              "      <td>s.383a7ac8-51de-4be8-82f9-0a5adfab7f2f.txt</td>\n",
              "      <td>3.0</td>\n",
              "      <td>1.0</td>\n",
              "      <td>20.0</td>\n",
              "      <td>Russian</td>\n",
              "      <td>1.0</td>\n",
              "      <td>NaN</td>\n",
              "      <td>1.0</td>\n",
              "      <td>NaN</td>\n",
              "      <td>NaN</td>\n",
              "      <td>NaN</td>\n",
              "      <td>NaN</td>\n",
              "      <td>NaN</td>\n",
              "      <td>NaN</td>\n",
              "      <td>NaN</td>\n",
              "      <td>NaN</td>\n",
              "      <td>NaN</td>\n",
              "      <td>NaN</td>\n",
              "      <td>NaN</td>\n",
              "      <td>NaN</td>\n",
              "      <td>NaN</td>\n",
              "      <td>NaN</td>\n",
              "      <td>NaN</td>\n",
              "      <td>NaN</td>\n",
              "      <td>NaN</td>\n",
              "      <td>NaN</td>\n",
              "      <td>NaN</td>\n",
              "      <td>NaN</td>\n",
              "      <td>NaN</td>\n",
              "      <td>NaN</td>\n",
              "      <td>NaN</td>\n",
              "      <td>NaN</td>\n",
              "      <td>NaN</td>\n",
              "      <td>NaN</td>\n",
              "      <td>NaN</td>\n",
              "      <td>NaN</td>\n",
              "      <td>NaN</td>\n",
              "      <td>NaN</td>\n",
              "      <td>NaN</td>\n",
              "      <td>NaN</td>\n",
              "      <td>...</td>\n",
              "      <td>NaN</td>\n",
              "      <td>NaN</td>\n",
              "      <td>NaN</td>\n",
              "      <td>NaN</td>\n",
              "      <td>NaN</td>\n",
              "      <td>NaN</td>\n",
              "      <td>NaN</td>\n",
              "      <td>NaN</td>\n",
              "      <td>NaN</td>\n",
              "      <td>NaN</td>\n",
              "      <td>NaN</td>\n",
              "      <td>NaN</td>\n",
              "      <td>NaN</td>\n",
              "      <td>NaN</td>\n",
              "      <td>NaN</td>\n",
              "      <td>NaN</td>\n",
              "      <td>NaN</td>\n",
              "      <td>NaN</td>\n",
              "      <td>NaN</td>\n",
              "      <td>NaN</td>\n",
              "      <td>NaN</td>\n",
              "      <td>NaN</td>\n",
              "      <td>NaN</td>\n",
              "      <td>NaN</td>\n",
              "      <td>NaN</td>\n",
              "      <td>NaN</td>\n",
              "      <td>NaN</td>\n",
              "      <td>NaN</td>\n",
              "      <td>NaN</td>\n",
              "      <td>NaN</td>\n",
              "      <td>NaN</td>\n",
              "      <td>NaN</td>\n",
              "      <td>NaN</td>\n",
              "      <td>NaN</td>\n",
              "      <td>NaN</td>\n",
              "      <td>NaN</td>\n",
              "      <td>NaN</td>\n",
              "      <td>2021-04-15-15-54</td>\n",
              "      <td>NaN</td>\n",
              "      <td>NaN</td>\n",
              "    </tr>\n",
              "    <tr>\n",
              "      <th>1</th>\n",
              "      <td>s.a88c0a70-878f-4148-a335-ef8e351deee1.txt</td>\n",
              "      <td>6.0</td>\n",
              "      <td>4.0</td>\n",
              "      <td>19.0</td>\n",
              "      <td>swedish</td>\n",
              "      <td>2.0</td>\n",
              "      <td>NaN</td>\n",
              "      <td>4.0</td>\n",
              "      <td>2.0</td>\n",
              "      <td>0.0</td>\n",
              "      <td>4.0</td>\n",
              "      <td>6.0</td>\n",
              "      <td>9.0</td>\n",
              "      <td>10.0</td>\n",
              "      <td>3.0</td>\n",
              "      <td>6.0</td>\n",
              "      <td>0.0</td>\n",
              "      <td>1.0</td>\n",
              "      <td>3.0</td>\n",
              "      <td>6.0</td>\n",
              "      <td>2.0</td>\n",
              "      <td>0.0</td>\n",
              "      <td>4.0</td>\n",
              "      <td>7.0</td>\n",
              "      <td>1.0</td>\n",
              "      <td>0.0</td>\n",
              "      <td>9.0</td>\n",
              "      <td>10.0</td>\n",
              "      <td>4.0</td>\n",
              "      <td>1.0</td>\n",
              "      <td>4.0</td>\n",
              "      <td>0.0</td>\n",
              "      <td>6.0</td>\n",
              "      <td>3.0</td>\n",
              "      <td>7.0</td>\n",
              "      <td>0.0</td>\n",
              "      <td>4.0</td>\n",
              "      <td>7.0</td>\n",
              "      <td>25.0</td>\n",
              "      <td>0.6</td>\n",
              "      <td>...</td>\n",
              "      <td>1.3</td>\n",
              "      <td>2.0</td>\n",
              "      <td>2.0</td>\n",
              "      <td>2.0</td>\n",
              "      <td>2.0</td>\n",
              "      <td>2.0</td>\n",
              "      <td>2.0</td>\n",
              "      <td>1.0</td>\n",
              "      <td>1.0</td>\n",
              "      <td>4.0</td>\n",
              "      <td>2.0</td>\n",
              "      <td>1.0</td>\n",
              "      <td>1.8</td>\n",
              "      <td>5.0</td>\n",
              "      <td>5.0</td>\n",
              "      <td>5.0</td>\n",
              "      <td>5.0</td>\n",
              "      <td>5.0</td>\n",
              "      <td>5.0</td>\n",
              "      <td>4.0</td>\n",
              "      <td>2.0</td>\n",
              "      <td>5.0</td>\n",
              "      <td>3.0</td>\n",
              "      <td>3.0</td>\n",
              "      <td>3.4</td>\n",
              "      <td>5.0</td>\n",
              "      <td>5.0</td>\n",
              "      <td>3.0</td>\n",
              "      <td>2.0</td>\n",
              "      <td>5.0</td>\n",
              "      <td>4.0</td>\n",
              "      <td>1.0</td>\n",
              "      <td>3.0</td>\n",
              "      <td>1.0</td>\n",
              "      <td>2.0</td>\n",
              "      <td>1.0</td>\n",
              "      <td>1.6</td>\n",
              "      <td>2021-04-22-16-18</td>\n",
              "      <td>2021-04-22-16-25</td>\n",
              "      <td>7.0</td>\n",
              "    </tr>\n",
              "    <tr>\n",
              "      <th>2</th>\n",
              "      <td>s.5eaa59ba-1dde-41c2-a4dd-9f7f8c0bd77a.txt</td>\n",
              "      <td>5.0</td>\n",
              "      <td>3.0</td>\n",
              "      <td>20.0</td>\n",
              "      <td>Portuguese</td>\n",
              "      <td>2.0</td>\n",
              "      <td>NaN</td>\n",
              "      <td>3.0</td>\n",
              "      <td>4.0</td>\n",
              "      <td>0.0</td>\n",
              "      <td>0.0</td>\n",
              "      <td>0.0</td>\n",
              "      <td>7.0</td>\n",
              "      <td>5.0</td>\n",
              "      <td>2.0</td>\n",
              "      <td>1.0</td>\n",
              "      <td>4.0</td>\n",
              "      <td>3.0</td>\n",
              "      <td>10.0</td>\n",
              "      <td>4.0</td>\n",
              "      <td>6.0</td>\n",
              "      <td>0.0</td>\n",
              "      <td>7.0</td>\n",
              "      <td>6.0</td>\n",
              "      <td>7.0</td>\n",
              "      <td>3.0</td>\n",
              "      <td>4.0</td>\n",
              "      <td>8.0</td>\n",
              "      <td>2.0</td>\n",
              "      <td>1.0</td>\n",
              "      <td>1.0</td>\n",
              "      <td>0.0</td>\n",
              "      <td>9.0</td>\n",
              "      <td>2.0</td>\n",
              "      <td>6.0</td>\n",
              "      <td>1.0</td>\n",
              "      <td>2.0</td>\n",
              "      <td>6.0</td>\n",
              "      <td>25.0</td>\n",
              "      <td>0.4</td>\n",
              "      <td>...</td>\n",
              "      <td>2.0</td>\n",
              "      <td>2.0</td>\n",
              "      <td>2.0</td>\n",
              "      <td>2.0</td>\n",
              "      <td>2.0</td>\n",
              "      <td>1.0</td>\n",
              "      <td>1.8</td>\n",
              "      <td>5.0</td>\n",
              "      <td>4.0</td>\n",
              "      <td>5.0</td>\n",
              "      <td>5.0</td>\n",
              "      <td>2.0</td>\n",
              "      <td>4.2</td>\n",
              "      <td>4.0</td>\n",
              "      <td>4.0</td>\n",
              "      <td>4.0</td>\n",
              "      <td>5.0</td>\n",
              "      <td>4.0</td>\n",
              "      <td>4.2</td>\n",
              "      <td>4.0</td>\n",
              "      <td>2.0</td>\n",
              "      <td>5.0</td>\n",
              "      <td>3.0</td>\n",
              "      <td>4.0</td>\n",
              "      <td>3.6</td>\n",
              "      <td>3.0</td>\n",
              "      <td>4.0</td>\n",
              "      <td>4.0</td>\n",
              "      <td>3.0</td>\n",
              "      <td>4.0</td>\n",
              "      <td>3.6</td>\n",
              "      <td>1.0</td>\n",
              "      <td>2.0</td>\n",
              "      <td>2.0</td>\n",
              "      <td>2.0</td>\n",
              "      <td>1.0</td>\n",
              "      <td>1.6</td>\n",
              "      <td>2021-04-27-13-37</td>\n",
              "      <td>2021-04-27-13-50</td>\n",
              "      <td>13.0</td>\n",
              "    </tr>\n",
              "    <tr>\n",
              "      <th>3</th>\n",
              "      <td>s.59f16b8a-4207-4825-9342-43d56a9dc114.txt</td>\n",
              "      <td>5.0</td>\n",
              "      <td>2.0</td>\n",
              "      <td>19.0</td>\n",
              "      <td>Swiss</td>\n",
              "      <td>2.0</td>\n",
              "      <td>NaN</td>\n",
              "      <td>4.0</td>\n",
              "      <td>4.0</td>\n",
              "      <td>0.0</td>\n",
              "      <td>0.0</td>\n",
              "      <td>0.0</td>\n",
              "      <td>7.0</td>\n",
              "      <td>6.0</td>\n",
              "      <td>4.0</td>\n",
              "      <td>2.0</td>\n",
              "      <td>6.0</td>\n",
              "      <td>7.0</td>\n",
              "      <td>7.0</td>\n",
              "      <td>3.0</td>\n",
              "      <td>8.0</td>\n",
              "      <td>2.0</td>\n",
              "      <td>5.0</td>\n",
              "      <td>6.0</td>\n",
              "      <td>5.0</td>\n",
              "      <td>3.0</td>\n",
              "      <td>7.0</td>\n",
              "      <td>6.0</td>\n",
              "      <td>4.0</td>\n",
              "      <td>0.0</td>\n",
              "      <td>0.0</td>\n",
              "      <td>1.0</td>\n",
              "      <td>8.0</td>\n",
              "      <td>5.0</td>\n",
              "      <td>7.0</td>\n",
              "      <td>0.0</td>\n",
              "      <td>7.0</td>\n",
              "      <td>7.0</td>\n",
              "      <td>18.0</td>\n",
              "      <td>0.6</td>\n",
              "      <td>...</td>\n",
              "      <td>1.7</td>\n",
              "      <td>3.0</td>\n",
              "      <td>4.0</td>\n",
              "      <td>2.0</td>\n",
              "      <td>2.0</td>\n",
              "      <td>3.0</td>\n",
              "      <td>2.8</td>\n",
              "      <td>2.0</td>\n",
              "      <td>2.0</td>\n",
              "      <td>4.0</td>\n",
              "      <td>2.0</td>\n",
              "      <td>1.0</td>\n",
              "      <td>2.2</td>\n",
              "      <td>4.0</td>\n",
              "      <td>3.0</td>\n",
              "      <td>5.0</td>\n",
              "      <td>5.0</td>\n",
              "      <td>3.0</td>\n",
              "      <td>4.0</td>\n",
              "      <td>2.0</td>\n",
              "      <td>3.0</td>\n",
              "      <td>4.0</td>\n",
              "      <td>2.0</td>\n",
              "      <td>4.0</td>\n",
              "      <td>3.0</td>\n",
              "      <td>4.0</td>\n",
              "      <td>2.0</td>\n",
              "      <td>3.0</td>\n",
              "      <td>3.0</td>\n",
              "      <td>4.0</td>\n",
              "      <td>3.2</td>\n",
              "      <td>2.0</td>\n",
              "      <td>2.0</td>\n",
              "      <td>1.0</td>\n",
              "      <td>3.0</td>\n",
              "      <td>1.0</td>\n",
              "      <td>1.8</td>\n",
              "      <td>2021-04-27-22-04</td>\n",
              "      <td>2021-04-27-22-19</td>\n",
              "      <td>15.0</td>\n",
              "    </tr>\n",
              "    <tr>\n",
              "      <th>4</th>\n",
              "      <td>s.efdf6281-1c94-493f-8e5c-6a2e55dcd6bf.txt</td>\n",
              "      <td>10.0</td>\n",
              "      <td>6.0</td>\n",
              "      <td>20.0</td>\n",
              "      <td>Switzerland</td>\n",
              "      <td>1.0</td>\n",
              "      <td>NaN</td>\n",
              "      <td>3.0</td>\n",
              "      <td>9.0</td>\n",
              "      <td>1.0</td>\n",
              "      <td>0.0</td>\n",
              "      <td>6.0</td>\n",
              "      <td>9.0</td>\n",
              "      <td>1.0</td>\n",
              "      <td>7.0</td>\n",
              "      <td>7.0</td>\n",
              "      <td>9.0</td>\n",
              "      <td>7.0</td>\n",
              "      <td>10.0</td>\n",
              "      <td>1.0</td>\n",
              "      <td>8.0</td>\n",
              "      <td>1.0</td>\n",
              "      <td>9.0</td>\n",
              "      <td>9.0</td>\n",
              "      <td>5.0</td>\n",
              "      <td>5.0</td>\n",
              "      <td>9.0</td>\n",
              "      <td>7.0</td>\n",
              "      <td>1.0</td>\n",
              "      <td>9.0</td>\n",
              "      <td>8.0</td>\n",
              "      <td>1.0</td>\n",
              "      <td>9.0</td>\n",
              "      <td>5.0</td>\n",
              "      <td>5.0</td>\n",
              "      <td>5.0</td>\n",
              "      <td>3.0</td>\n",
              "      <td>7.0</td>\n",
              "      <td>20.0</td>\n",
              "      <td>0.6</td>\n",
              "      <td>...</td>\n",
              "      <td>0.0</td>\n",
              "      <td>4.0</td>\n",
              "      <td>5.0</td>\n",
              "      <td>5.0</td>\n",
              "      <td>3.0</td>\n",
              "      <td>4.0</td>\n",
              "      <td>4.2</td>\n",
              "      <td>1.0</td>\n",
              "      <td>1.0</td>\n",
              "      <td>2.0</td>\n",
              "      <td>1.0</td>\n",
              "      <td>1.0</td>\n",
              "      <td>1.2</td>\n",
              "      <td>5.0</td>\n",
              "      <td>3.0</td>\n",
              "      <td>5.0</td>\n",
              "      <td>4.0</td>\n",
              "      <td>2.0</td>\n",
              "      <td>3.8</td>\n",
              "      <td>5.0</td>\n",
              "      <td>3.0</td>\n",
              "      <td>5.0</td>\n",
              "      <td>2.0</td>\n",
              "      <td>3.0</td>\n",
              "      <td>3.6</td>\n",
              "      <td>5.0</td>\n",
              "      <td>4.0</td>\n",
              "      <td>4.0</td>\n",
              "      <td>4.0</td>\n",
              "      <td>4.0</td>\n",
              "      <td>4.2</td>\n",
              "      <td>3.0</td>\n",
              "      <td>5.0</td>\n",
              "      <td>2.0</td>\n",
              "      <td>5.0</td>\n",
              "      <td>3.0</td>\n",
              "      <td>3.6</td>\n",
              "      <td>2021-04-21-15-54</td>\n",
              "      <td>2021-04-21-16-23</td>\n",
              "      <td>29.0</td>\n",
              "    </tr>\n",
              "  </tbody>\n",
              "</table>\n",
              "<p>5 rows × 92 columns</p>\n",
              "</div>"
            ],
            "text/plain": [
              "                                  participant  ...  TIME_total\n",
              "0  s.383a7ac8-51de-4be8-82f9-0a5adfab7f2f.txt  ...         NaN\n",
              "1  s.a88c0a70-878f-4148-a335-ef8e351deee1.txt  ...         7.0\n",
              "2  s.5eaa59ba-1dde-41c2-a4dd-9f7f8c0bd77a.txt  ...        13.0\n",
              "3  s.59f16b8a-4207-4825-9342-43d56a9dc114.txt  ...        15.0\n",
              "4  s.efdf6281-1c94-493f-8e5c-6a2e55dcd6bf.txt  ...        29.0\n",
              "\n",
              "[5 rows x 92 columns]"
            ]
          },
          "metadata": {
            "tags": []
          },
          "execution_count": 12
        }
      ]
    },
    {
      "cell_type": "markdown",
      "metadata": {
        "id": "XPVse1rrFksh"
      },
      "source": [
        "# Data cleaning"
      ]
    },
    {
      "cell_type": "markdown",
      "metadata": {
        "id": "c9kRQXcVFn7V"
      },
      "source": [
        "Apparently there are no multi-gender people there, hence this column is completely useless"
      ]
    },
    {
      "cell_type": "code",
      "metadata": {
        "id": "6eGpNYhnFjcD",
        "colab": {
          "base_uri": "https://localhost:8080/"
        },
        "outputId": "dfc318a9-1648-4985-91b8-325de24277cc"
      },
      "source": [
        "print(np.isnan(df['gender:other']).all())\n",
        "df.drop('gender:other',axis=1,inplace=True)"
      ],
      "execution_count": null,
      "outputs": [
        {
          "output_type": "stream",
          "text": [
            "True\n"
          ],
          "name": "stdout"
        }
      ]
    },
    {
      "cell_type": "markdown",
      "metadata": {
        "id": "naTopb5DFsIo"
      },
      "source": [
        "These people didn't manage to reach feeds, so there is no use in them either"
      ]
    },
    {
      "cell_type": "code",
      "metadata": {
        "id": "1wQY7YAeFnNW",
        "colab": {
          "base_uri": "https://localhost:8080/"
        },
        "outputId": "400b1f72-1e6e-4bac-9022-a262fc65082e"
      },
      "source": [
        "print('people who did not reach feeds',df[np.isnan(df['feed1_1:1'])].index.to_numpy())"
      ],
      "execution_count": null,
      "outputs": [
        {
          "output_type": "stream",
          "text": [
            "people who did not reach feeds [ 0 71]\n"
          ],
          "name": "stdout"
        }
      ]
    },
    {
      "cell_type": "code",
      "metadata": {
        "id": "bVy7NOYMFnP4"
      },
      "source": [
        "df=df[np.logical_not(np.isnan(df['feed1_1:1']))]"
      ],
      "execution_count": null,
      "outputs": []
    },
    {
      "cell_type": "markdown",
      "metadata": {
        "id": "QUcHszPlFwuR"
      },
      "source": [
        "Nan emails only. Seems sensible. I guess we can work with this dataset now."
      ]
    },
    {
      "cell_type": "code",
      "metadata": {
        "id": "F9k8pFZaFnSu",
        "colab": {
          "base_uri": "https://localhost:8080/"
        },
        "outputId": "c469edab-57c1-41ac-ca01-edf515747dc1"
      },
      "source": [
        "print('Columns with Nans',df.columns[df.isna().any()].to_numpy())"
      ],
      "execution_count": null,
      "outputs": [
        {
          "output_type": "stream",
          "text": [
            "Columns with Nans []\n"
          ],
          "name": "stdout"
        }
      ]
    },
    {
      "cell_type": "markdown",
      "metadata": {
        "id": "cIPd_bLUlc-6"
      },
      "source": [
        "# Results"
      ]
    },
    {
      "cell_type": "markdown",
      "metadata": {
        "id": "21AzVMIcF0SH"
      },
      "source": [
        "## Data exploration"
      ]
    },
    {
      "cell_type": "code",
      "metadata": {
        "id": "uX_4hMBPBZu6",
        "colab": {
          "base_uri": "https://localhost:8080/",
          "height": 1000
        },
        "outputId": "11cadb4e-739f-4b75-8eb6-12019bc13006"
      },
      "source": [
        "ax = plt.figure(dpi = 150).gca()\n",
        "ax.yaxis.set_major_locator(MaxNLocator(integer=True))\n",
        "sns.histplot(df['age:1'])\n",
        "plt.title('Age of partecipants')\n",
        "plt.xlabel('')\n",
        "plt.show()\n",
        "\n",
        "\n",
        "age = df['age:1']\n",
        "print(np.mean(age))\n",
        "print(np.std(age))\n",
        "\n",
        "edu = df['education:1']\n",
        "print(len(edu[edu<4]) / len(edu))\n",
        "\n",
        "ax = plt.figure(dpi = 150).gca()\n",
        "sns.countplot(df['education:1'])\n",
        "plt.title('Education Level')\n",
        "ax.set_xticklabels(('Primary school','GCSEs or equivalent','A-Levels or equivalent','Undergraduate', 'University post-graduate program'), rotation=40, ha=\"right\")\n",
        "plt.xlabel('')\n",
        "plt.show()\n"
      ],
      "execution_count": null,
      "outputs": [
        {
          "output_type": "display_data",
          "data": {
            "image/png": "[encoded data removed]",
            "text/plain": [
              "<Figure size 1050x750 with 1 Axes>"
            ]
          },
          "metadata": {
            "tags": [],
            "needs_background": "light"
          }
        },
        {
          "output_type": "stream",
          "text": [
            "22.228571428571428\n",
            "5.598906598795947\n",
            "0.45714285714285713\n"
          ],
          "name": "stdout"
        },
        {
          "output_type": "stream",
          "text": [
            "/usr/local/lib/python3.7/dist-packages/seaborn/_decorators.py:43: FutureWarning: Pass the following variable as a keyword arg: x. From version 0.12, the only valid positional argument will be `data`, and passing other arguments without an explicit keyword will result in an error or misinterpretation.\n",
            "  FutureWarning\n"
          ],
          "name": "stderr"
        },
        {
          "output_type": "display_data",
          "data": {
            "image/png": "[encoded data removed]",
            "text/plain": [
              "<Figure size 1050x750 with 1 Axes>"
            ]
          },
          "metadata": {
            "tags": [],
            "needs_background": "light"
          }
        }
      ]
    },
    {
      "cell_type": "code",
      "metadata": {
        "id": "k5HienN7PhFo",
        "colab": {
          "base_uri": "https://localhost:8080/"
        },
        "outputId": "8af54a2b-0752-40de-8fcd-f245fe144703"
      },
      "source": [
        "df['age:1'].describe()"
      ],
      "execution_count": null,
      "outputs": [
        {
          "output_type": "execute_result",
          "data": {
            "text/plain": [
              "count    70.000000\n",
              "mean     22.228571\n",
              "std       5.639332\n",
              "min      18.000000\n",
              "25%      20.000000\n",
              "50%      21.000000\n",
              "75%      23.000000\n",
              "max      54.000000\n",
              "Name: age:1, dtype: float64"
            ]
          },
          "metadata": {
            "tags": []
          },
          "execution_count": 19
        }
      ]
    },
    {
      "cell_type": "code",
      "metadata": {
        "colab": {
          "base_uri": "https://localhost:8080/"
        },
        "id": "xQ8Fuj76O7Tf",
        "outputId": "f1ba7d47-0bfc-469b-d77c-1a5df774159b"
      },
      "source": [
        "print(\"Percentage of women in the dataset {:.0f}%\".format((df['gender:1']==2).sum()/len(df)*100))"
      ],
      "execution_count": null,
      "outputs": [
        {
          "output_type": "stream",
          "text": [
            "Percentage of women in the dataset 67%\n"
          ],
          "name": "stdout"
        }
      ]
    },
    {
      "cell_type": "code",
      "metadata": {
        "id": "hlov1D6MFnXR"
      },
      "source": [
        "Fake_news_raw=df[['Abortion FN','Climate TN','Domestic violence FN','Homophobia FN','Weed TN']]\n",
        "Political_leaning=df[['Refugees', 'Healthcare', 'Basic quality of living', 'Same sex couples',\n",
        "       'Abortion', 'National defense', 'Death penalty', 'Light drugs',\n",
        "       'Climate change', 'Minorities', 'Self-identify']]\n",
        "\n",
        "Personality_traits=df[['Agreeability','Consciousness','Extroversion','Honesty','Originality','Resiliency']]\n",
        "Personality_traits.columns=['Agreeableness','Conscientiousness','Extraversion','Honesty','Originality','Resiliency']"
      ],
      "execution_count": null,
      "outputs": []
    },
    {
      "cell_type": "code",
      "metadata": {
        "colab": {
          "base_uri": "https://localhost:8080/",
          "height": 297
        },
        "id": "O9M0uu0lg_x5",
        "outputId": "547d0ecc-56b0-4d7f-9b25-49c8af69bba0"
      },
      "source": [
        "#Desctiption of normalised Hexaco dataset\n",
        "Personality_traits_norm=(Personality_traits-Personality_traits.min(axis=0))\n",
        "Personality_traits_norm/=Personality_traits_norm.max(axis=0)\n",
        "Personality_traits_norm.describe()"
      ],
      "execution_count": null,
      "outputs": [
        {
          "output_type": "execute_result",
          "data": {
            "text/html": [
              "<div>\n",
              "<style scoped>\n",
              "    .dataframe tbody tr th:only-of-type {\n",
              "        vertical-align: middle;\n",
              "    }\n",
              "\n",
              "    .dataframe tbody tr th {\n",
              "        vertical-align: top;\n",
              "    }\n",
              "\n",
              "    .dataframe thead th {\n",
              "        text-align: right;\n",
              "    }\n",
              "</style>\n",
              "<table border=\"1\" class=\"dataframe\">\n",
              "  <thead>\n",
              "    <tr style=\"text-align: right;\">\n",
              "      <th></th>\n",
              "      <th>Agreeableness</th>\n",
              "      <th>Conscientiousness</th>\n",
              "      <th>Extraversion</th>\n",
              "      <th>Honesty</th>\n",
              "      <th>Originality</th>\n",
              "      <th>Resiliency</th>\n",
              "    </tr>\n",
              "  </thead>\n",
              "  <tbody>\n",
              "    <tr>\n",
              "      <th>count</th>\n",
              "      <td>70.000000</td>\n",
              "      <td>70.000000</td>\n",
              "      <td>70.000000</td>\n",
              "      <td>70.000000</td>\n",
              "      <td>70.000000</td>\n",
              "      <td>70.000000</td>\n",
              "    </tr>\n",
              "    <tr>\n",
              "      <th>mean</th>\n",
              "      <td>0.531746</td>\n",
              "      <td>0.510317</td>\n",
              "      <td>0.601587</td>\n",
              "      <td>0.601020</td>\n",
              "      <td>0.562857</td>\n",
              "      <td>0.447619</td>\n",
              "    </tr>\n",
              "    <tr>\n",
              "      <th>std</th>\n",
              "      <td>0.253544</td>\n",
              "      <td>0.213033</td>\n",
              "      <td>0.226602</td>\n",
              "      <td>0.220407</td>\n",
              "      <td>0.192496</td>\n",
              "      <td>0.245169</td>\n",
              "    </tr>\n",
              "    <tr>\n",
              "      <th>min</th>\n",
              "      <td>0.000000</td>\n",
              "      <td>0.000000</td>\n",
              "      <td>0.000000</td>\n",
              "      <td>0.000000</td>\n",
              "      <td>0.000000</td>\n",
              "      <td>0.000000</td>\n",
              "    </tr>\n",
              "    <tr>\n",
              "      <th>25%</th>\n",
              "      <td>0.333333</td>\n",
              "      <td>0.333333</td>\n",
              "      <td>0.444444</td>\n",
              "      <td>0.428571</td>\n",
              "      <td>0.466667</td>\n",
              "      <td>0.222222</td>\n",
              "    </tr>\n",
              "    <tr>\n",
              "      <th>50%</th>\n",
              "      <td>0.527778</td>\n",
              "      <td>0.500000</td>\n",
              "      <td>0.638889</td>\n",
              "      <td>0.571429</td>\n",
              "      <td>0.566667</td>\n",
              "      <td>0.444444</td>\n",
              "    </tr>\n",
              "    <tr>\n",
              "      <th>75%</th>\n",
              "      <td>0.722222</td>\n",
              "      <td>0.666667</td>\n",
              "      <td>0.777778</td>\n",
              "      <td>0.785714</td>\n",
              "      <td>0.666667</td>\n",
              "      <td>0.611111</td>\n",
              "    </tr>\n",
              "    <tr>\n",
              "      <th>max</th>\n",
              "      <td>1.000000</td>\n",
              "      <td>1.000000</td>\n",
              "      <td>1.000000</td>\n",
              "      <td>1.000000</td>\n",
              "      <td>1.000000</td>\n",
              "      <td>1.000000</td>\n",
              "    </tr>\n",
              "  </tbody>\n",
              "</table>\n",
              "</div>"
            ],
            "text/plain": [
              "       Agreeableness  Conscientiousness  ...  Originality  Resiliency\n",
              "count      70.000000          70.000000  ...    70.000000   70.000000\n",
              "mean        0.531746           0.510317  ...     0.562857    0.447619\n",
              "std         0.253544           0.213033  ...     0.192496    0.245169\n",
              "min         0.000000           0.000000  ...     0.000000    0.000000\n",
              "25%         0.333333           0.333333  ...     0.466667    0.222222\n",
              "50%         0.527778           0.500000  ...     0.566667    0.444444\n",
              "75%         0.722222           0.666667  ...     0.666667    0.611111\n",
              "max         1.000000           1.000000  ...     1.000000    1.000000\n",
              "\n",
              "[8 rows x 6 columns]"
            ]
          },
          "metadata": {
            "tags": []
          },
          "execution_count": 64
        }
      ]
    },
    {
      "cell_type": "markdown",
      "metadata": {
        "id": "5aRTiWlSF9If"
      },
      "source": [
        "### Fake news"
      ]
    },
    {
      "cell_type": "code",
      "metadata": {
        "id": "6h0sbmchCUUj",
        "colab": {
          "base_uri": "https://localhost:8080/",
          "height": 722
        },
        "outputId": "831cd9e8-1666-4559-e95f-eeb23e80ece1"
      },
      "source": [
        "colors = ['#1f77b4', '#ff7f0e', '#2ca02c', '#d62728', '#9467bd', '#8c564b', '#e377c2', '#7f7f7f', '#bcbd22', '#17becf']\n",
        "fig = plt.figure(figsize= (20,10))\n",
        "for i,name in enumerate(Fake_news_raw.columns):\n",
        "  plt.subplot(2,3,i+1)\n",
        "  \n",
        "  ax = sns.countplot(Fake_news_raw.iloc[:,i],color = colors[i])\n",
        "  ax.set_xticklabels( labels = np.arange(0,11))\n",
        "  plt.title(name)\n",
        "  plt.xlabel('')\n",
        "\n",
        "plt.show()"
      ],
      "execution_count": null,
      "outputs": [
        {
          "output_type": "stream",
          "text": [
            "/usr/local/lib/python3.7/dist-packages/seaborn/_decorators.py:43: FutureWarning: Pass the following variable as a keyword arg: x. From version 0.12, the only valid positional argument will be `data`, and passing other arguments without an explicit keyword will result in an error or misinterpretation.\n",
            "  FutureWarning\n",
            "/usr/local/lib/python3.7/dist-packages/seaborn/_decorators.py:43: FutureWarning: Pass the following variable as a keyword arg: x. From version 0.12, the only valid positional argument will be `data`, and passing other arguments without an explicit keyword will result in an error or misinterpretation.\n",
            "  FutureWarning\n",
            "/usr/local/lib/python3.7/dist-packages/seaborn/_decorators.py:43: FutureWarning: Pass the following variable as a keyword arg: x. From version 0.12, the only valid positional argument will be `data`, and passing other arguments without an explicit keyword will result in an error or misinterpretation.\n",
            "  FutureWarning\n",
            "/usr/local/lib/python3.7/dist-packages/seaborn/_decorators.py:43: FutureWarning: Pass the following variable as a keyword arg: x. From version 0.12, the only valid positional argument will be `data`, and passing other arguments without an explicit keyword will result in an error or misinterpretation.\n",
            "  FutureWarning\n",
            "/usr/local/lib/python3.7/dist-packages/seaborn/_decorators.py:43: FutureWarning: Pass the following variable as a keyword arg: x. From version 0.12, the only valid positional argument will be `data`, and passing other arguments without an explicit keyword will result in an error or misinterpretation.\n",
            "  FutureWarning\n"
          ],
          "name": "stderr"
        },
        {
          "output_type": "display_data",
          "data": {
            "image/png": "[encoded data removed]",
            "text/plain": [
              "<Figure size 1440x720 with 5 Axes>"
            ]
          },
          "metadata": {
            "tags": [],
            "needs_background": "light"
          }
        }
      ]
    },
    {
      "cell_type": "markdown",
      "metadata": {
        "id": "5LDpSB04GVIL"
      },
      "source": [
        "During the questionnaire, participants were asked to estimate their trust to present pieces of news on a scale from 0 to 10 with step 1. In other terms, they were asked to classify the piece as either True or False, by answering with probability of the piece being True. Such a task can be naturally named as a task of binary classification, hence the cost of deviation from correct answer can be measured as informational entropy between distribution of correct answers and distribution of predicted probabilities. Such logic brings us to conclusion that Fake News score detection should be measured as Binary Crossentropy."
      ]
    },
    {
      "cell_type": "code",
      "metadata": {
        "id": "Og3CVtolGMXp"
      },
      "source": [
        "#0*np.log(0)=0, whereas numpy thinks that it is nan \n",
        "def entropy_loss(Answers,Probabilities):\n",
        "    Loss=np.log(Probabilities)\n",
        "    Loss[Loss==-np.inf]=0\n",
        "    return Answers*Probabilities"
      ],
      "execution_count": null,
      "outputs": []
    },
    {
      "cell_type": "code",
      "metadata": {
        "id": "FKPDRt-M2xss"
      },
      "source": [
        "def get_BCE(Answers,Dataset):\n",
        "  #Numpy thinks that nan*0=nan so we turn nan to 0 explicitly\n",
        "  False_loss=entropy_loss(Answers,Dataset)\n",
        "  True_loss=entropy_loss(1-Answers,1-Dataset)\n",
        "\n",
        "  print('Any infs?',np.isinf(False_loss).any().any(),np.isinf(True_loss).any().any())\n",
        "\n",
        "  # That's negative BCE, so 1-guessed everything, 0-guessed nothing\n",
        "  BCE=(False_loss+True_loss)/Fake_news.shape[1]\n",
        "  plt.show()\n",
        "  return BCE"
      ],
      "execution_count": null,
      "outputs": []
    },
    {
      "cell_type": "code",
      "metadata": {
        "id": "E2RWUy8O1rfo",
        "colab": {
          "base_uri": "https://localhost:8080/",
          "height": 781
        },
        "outputId": "a53f00b7-8541-466d-b33f-28685140cf0c"
      },
      "source": [
        "Fake_news=Fake_news_raw/10\n",
        "Fake_news_answers=np.array([False,True,False,False,True])\n",
        "\n",
        "\n",
        "\n",
        "BCE_original=get_BCE(Fake_news_answers,Fake_news)\n",
        "plt.figure(dpi = 150)\n",
        "BCE_original.sum(axis=1).plot.hist(title='Total Fake News Score',xlim=(0.3,0.9))\n",
        "plt.show()\n",
        "BCE_scores=BCE_original*5\n",
        "BCE_scores['Total']=BCE_scores.mean(axis=1)\n",
        "print(BCE_original.sum(axis=1).std())"
      ],
      "execution_count": null,
      "outputs": [
        {
          "output_type": "stream",
          "text": [
            "/usr/local/lib/python3.7/dist-packages/ipykernel_launcher.py:3: RuntimeWarning: divide by zero encountered in log\n",
            "  This is separate from the ipykernel package so we can avoid doing imports until\n",
            "/usr/local/lib/python3.7/dist-packages/ipykernel_launcher.py:3: RuntimeWarning: divide by zero encountered in log\n",
            "  This is separate from the ipykernel package so we can avoid doing imports until\n"
          ],
          "name": "stderr"
        },
        {
          "output_type": "stream",
          "text": [
            "Any infs? False False\n"
          ],
          "name": "stdout"
        },
        {
          "output_type": "display_data",
          "data": {
            "image/png": "[encoded data removed]",
            "text/plain": [
              "<Figure size 1050x750 with 1 Axes>"
            ]
          },
          "metadata": {
            "tags": [],
            "needs_background": "light"
          }
        },
        {
          "output_type": "stream",
          "text": [
            "0.09124898252361066\n"
          ],
          "name": "stdout"
        }
      ]
    },
    {
      "cell_type": "code",
      "metadata": {
        "colab": {
          "base_uri": "https://localhost:8080/",
          "height": 297
        },
        "id": "nXDo1dWSWoXo",
        "outputId": "5f055947-8eed-4aeb-ac67-745aa6383f92"
      },
      "source": [
        "BCE_scores.describe()"
      ],
      "execution_count": null,
      "outputs": [
        {
          "output_type": "execute_result",
          "data": {
            "text/html": [
              "<div>\n",
              "<style scoped>\n",
              "    .dataframe tbody tr th:only-of-type {\n",
              "        vertical-align: middle;\n",
              "    }\n",
              "\n",
              "    .dataframe tbody tr th {\n",
              "        vertical-align: top;\n",
              "    }\n",
              "\n",
              "    .dataframe thead th {\n",
              "        text-align: right;\n",
              "    }\n",
              "</style>\n",
              "<table border=\"1\" class=\"dataframe\">\n",
              "  <thead>\n",
              "    <tr style=\"text-align: right;\">\n",
              "      <th></th>\n",
              "      <th>Abortion FN</th>\n",
              "      <th>Climate TN</th>\n",
              "      <th>Domestic violence FN</th>\n",
              "      <th>Homophobia FN</th>\n",
              "      <th>Weed TN</th>\n",
              "      <th>Total</th>\n",
              "    </tr>\n",
              "  </thead>\n",
              "  <tbody>\n",
              "    <tr>\n",
              "      <th>count</th>\n",
              "      <td>70.000000</td>\n",
              "      <td>70.000000</td>\n",
              "      <td>70.000000</td>\n",
              "      <td>70.000000</td>\n",
              "      <td>70.000000</td>\n",
              "      <td>70.000000</td>\n",
              "    </tr>\n",
              "    <tr>\n",
              "      <th>mean</th>\n",
              "      <td>0.847143</td>\n",
              "      <td>0.485714</td>\n",
              "      <td>0.400000</td>\n",
              "      <td>0.742857</td>\n",
              "      <td>0.414286</td>\n",
              "      <td>0.578000</td>\n",
              "    </tr>\n",
              "    <tr>\n",
              "      <th>std</th>\n",
              "      <td>0.230765</td>\n",
              "      <td>0.236696</td>\n",
              "      <td>0.243168</td>\n",
              "      <td>0.282110</td>\n",
              "      <td>0.308472</td>\n",
              "      <td>0.091249</td>\n",
              "    </tr>\n",
              "    <tr>\n",
              "      <th>min</th>\n",
              "      <td>0.100000</td>\n",
              "      <td>0.000000</td>\n",
              "      <td>0.000000</td>\n",
              "      <td>0.000000</td>\n",
              "      <td>0.000000</td>\n",
              "      <td>0.400000</td>\n",
              "    </tr>\n",
              "    <tr>\n",
              "      <th>25%</th>\n",
              "      <td>0.725000</td>\n",
              "      <td>0.300000</td>\n",
              "      <td>0.200000</td>\n",
              "      <td>0.600000</td>\n",
              "      <td>0.125000</td>\n",
              "      <td>0.505000</td>\n",
              "    </tr>\n",
              "    <tr>\n",
              "      <th>50%</th>\n",
              "      <td>1.000000</td>\n",
              "      <td>0.500000</td>\n",
              "      <td>0.400000</td>\n",
              "      <td>0.800000</td>\n",
              "      <td>0.400000</td>\n",
              "      <td>0.580000</td>\n",
              "    </tr>\n",
              "    <tr>\n",
              "      <th>75%</th>\n",
              "      <td>1.000000</td>\n",
              "      <td>0.600000</td>\n",
              "      <td>0.500000</td>\n",
              "      <td>1.000000</td>\n",
              "      <td>0.675000</td>\n",
              "      <td>0.635000</td>\n",
              "    </tr>\n",
              "    <tr>\n",
              "      <th>max</th>\n",
              "      <td>1.000000</td>\n",
              "      <td>1.000000</td>\n",
              "      <td>1.000000</td>\n",
              "      <td>1.000000</td>\n",
              "      <td>1.000000</td>\n",
              "      <td>0.840000</td>\n",
              "    </tr>\n",
              "  </tbody>\n",
              "</table>\n",
              "</div>"
            ],
            "text/plain": [
              "       Abortion FN  Climate TN  ...    Weed TN      Total\n",
              "count    70.000000   70.000000  ...  70.000000  70.000000\n",
              "mean      0.847143    0.485714  ...   0.414286   0.578000\n",
              "std       0.230765    0.236696  ...   0.308472   0.091249\n",
              "min       0.100000    0.000000  ...   0.000000   0.400000\n",
              "25%       0.725000    0.300000  ...   0.125000   0.505000\n",
              "50%       1.000000    0.500000  ...   0.400000   0.580000\n",
              "75%       1.000000    0.600000  ...   0.675000   0.635000\n",
              "max       1.000000    1.000000  ...   1.000000   0.840000\n",
              "\n",
              "[8 rows x 6 columns]"
            ]
          },
          "metadata": {
            "tags": []
          },
          "execution_count": 35
        }
      ]
    },
    {
      "cell_type": "code",
      "metadata": {
        "id": "4G3CQM5W3_x9"
      },
      "source": [
        "def bootstrap_CI_func(data,func, nbr_draws=1000):\n",
        "    res = np.zeros(nbr_draws)\n",
        "    data = np.array(data)\n",
        "\n",
        "    for n in range(nbr_draws):\n",
        "        indices = np.random.randint(0, len(data), len(data))\n",
        "        data_tmp = data[indices] \n",
        "        res[n] = func(data_tmp)\n",
        "\n",
        "    return [np.nanpercentile(res, 2.5),np.nanpercentile(res, 97.5)]"
      ],
      "execution_count": null,
      "outputs": []
    },
    {
      "cell_type": "markdown",
      "metadata": {
        "id": "hIeSeLNJ4fVK"
      },
      "source": [
        "95 % significance"
      ]
    },
    {
      "cell_type": "code",
      "metadata": {
        "id": "b6xa0Ox74A5e",
        "colab": {
          "base_uri": "https://localhost:8080/"
        },
        "outputId": "4fac645e-6108-46e0-905f-0cdf4ecb0e86"
      },
      "source": [
        "low_CI,high_CI=bootstrap_CI_func(BCE_original.sum(axis=1),np.mean)\n",
        "print(\"95% Confidence intervals for mean value of Fake News detection score [{:.2f},{:.2f}]\".format(low_CI,high_CI))"
      ],
      "execution_count": null,
      "outputs": [
        {
          "output_type": "stream",
          "text": [
            "95% Confidence intervals for mean value of Fake News detection score [0.56,0.60]\n"
          ],
          "name": "stdout"
        }
      ]
    },
    {
      "cell_type": "markdown",
      "metadata": {
        "id": "gsLIhXRhGdQV"
      },
      "source": [
        "### Political Leaning"
      ]
    },
    {
      "cell_type": "markdown",
      "metadata": {
        "id": "dCj-LInnGcxH"
      },
      "source": [
        "Normalise it in the first place. And make it zero-centered"
      ]
    },
    {
      "cell_type": "code",
      "metadata": {
        "id": "wA8q_p2TGMe1",
        "colab": {
          "base_uri": "https://localhost:8080/",
          "height": 221
        },
        "outputId": "68899470-6022-4286-8478-fd7233011dcf"
      },
      "source": [
        "Political_leaning=(Political_leaning-5.5)/4.5\n",
        "Political_leaning.head()"
      ],
      "execution_count": null,
      "outputs": [
        {
          "output_type": "execute_result",
          "data": {
            "text/html": [
              "<div>\n",
              "<style scoped>\n",
              "    .dataframe tbody tr th:only-of-type {\n",
              "        vertical-align: middle;\n",
              "    }\n",
              "\n",
              "    .dataframe tbody tr th {\n",
              "        vertical-align: top;\n",
              "    }\n",
              "\n",
              "    .dataframe thead th {\n",
              "        text-align: right;\n",
              "    }\n",
              "</style>\n",
              "<table border=\"1\" class=\"dataframe\">\n",
              "  <thead>\n",
              "    <tr style=\"text-align: right;\">\n",
              "      <th></th>\n",
              "      <th>Refugees</th>\n",
              "      <th>Healthcare</th>\n",
              "      <th>Basic quality of living</th>\n",
              "      <th>Same sex couples</th>\n",
              "      <th>Abortion</th>\n",
              "      <th>National defense</th>\n",
              "      <th>Death penalty</th>\n",
              "      <th>Light drugs</th>\n",
              "      <th>Climate change</th>\n",
              "      <th>Minorities</th>\n",
              "      <th>Self-identify</th>\n",
              "    </tr>\n",
              "  </thead>\n",
              "  <tbody>\n",
              "    <tr>\n",
              "      <th>1</th>\n",
              "      <td>-0.777778</td>\n",
              "      <td>-1.0</td>\n",
              "      <td>-0.555556</td>\n",
              "      <td>-1.000000</td>\n",
              "      <td>1.000000</td>\n",
              "      <td>-0.111111</td>\n",
              "      <td>0.111111</td>\n",
              "      <td>1.000000</td>\n",
              "      <td>-1.000000</td>\n",
              "      <td>-0.555556</td>\n",
              "      <td>-1.000000</td>\n",
              "    </tr>\n",
              "    <tr>\n",
              "      <th>2</th>\n",
              "      <td>-0.555556</td>\n",
              "      <td>-1.0</td>\n",
              "      <td>-0.111111</td>\n",
              "      <td>-1.000000</td>\n",
              "      <td>1.000000</td>\n",
              "      <td>-0.777778</td>\n",
              "      <td>-1.000000</td>\n",
              "      <td>-0.555556</td>\n",
              "      <td>-0.555556</td>\n",
              "      <td>0.111111</td>\n",
              "      <td>-0.777778</td>\n",
              "    </tr>\n",
              "    <tr>\n",
              "      <th>3</th>\n",
              "      <td>-0.777778</td>\n",
              "      <td>-1.0</td>\n",
              "      <td>-0.111111</td>\n",
              "      <td>-0.777778</td>\n",
              "      <td>0.555556</td>\n",
              "      <td>-0.333333</td>\n",
              "      <td>-0.777778</td>\n",
              "      <td>0.111111</td>\n",
              "      <td>0.777778</td>\n",
              "      <td>0.333333</td>\n",
              "      <td>-0.555556</td>\n",
              "    </tr>\n",
              "    <tr>\n",
              "      <th>4</th>\n",
              "      <td>-1.000000</td>\n",
              "      <td>-1.0</td>\n",
              "      <td>-0.555556</td>\n",
              "      <td>-1.000000</td>\n",
              "      <td>1.000000</td>\n",
              "      <td>-1.000000</td>\n",
              "      <td>-0.555556</td>\n",
              "      <td>1.000000</td>\n",
              "      <td>-0.777778</td>\n",
              "      <td>-1.000000</td>\n",
              "      <td>-0.777778</td>\n",
              "    </tr>\n",
              "    <tr>\n",
              "      <th>5</th>\n",
              "      <td>-1.000000</td>\n",
              "      <td>-1.0</td>\n",
              "      <td>-1.000000</td>\n",
              "      <td>-1.000000</td>\n",
              "      <td>1.000000</td>\n",
              "      <td>-0.777778</td>\n",
              "      <td>0.777778</td>\n",
              "      <td>1.000000</td>\n",
              "      <td>-1.000000</td>\n",
              "      <td>-1.000000</td>\n",
              "      <td>-1.000000</td>\n",
              "    </tr>\n",
              "  </tbody>\n",
              "</table>\n",
              "</div>"
            ],
            "text/plain": [
              "   Refugees  Healthcare  ...  Minorities  Self-identify\n",
              "1 -0.777778        -1.0  ...   -0.555556      -1.000000\n",
              "2 -0.555556        -1.0  ...    0.111111      -0.777778\n",
              "3 -0.777778        -1.0  ...    0.333333      -0.555556\n",
              "4 -1.000000        -1.0  ...   -1.000000      -0.777778\n",
              "5 -1.000000        -1.0  ...   -1.000000      -1.000000\n",
              "\n",
              "[5 rows x 11 columns]"
            ]
          },
          "metadata": {
            "tags": []
          },
          "execution_count": 81
        }
      ]
    },
    {
      "cell_type": "code",
      "metadata": {
        "id": "LEPTN4C6GMhM"
      },
      "source": [
        "ProAuthoritarian_columns=['Refugees', 'Healthcare', 'Basic quality of living', 'Same sex couples','National defense','Climate change', 'Minorities']\n",
        "ProLibertarian_columns=['Abortion','Death penalty', 'Light drugs']\n",
        "Political_leaning['Political_score']=(Political_leaning[ProAuthoritarian_columns].sum(axis=1)\n",
        "                                      -Political_leaning[ProLibertarian_columns].sum(axis=1))/(Political_leaning.shape[1]-1)"
      ],
      "execution_count": null,
      "outputs": []
    },
    {
      "cell_type": "code",
      "metadata": {
        "id": "OkJCsCLEGMjj",
        "colab": {
          "base_uri": "https://localhost:8080/",
          "height": 547
        },
        "outputId": "e4dda8a7-c276-46f0-c556-e2f1825502b6"
      },
      "source": [
        "plt.figure(dpi = 150)\n",
        "g=sns.jointplot(x='Self-identify', y='Political_score', data=Political_leaning,\n",
        "                  kind=\"reg\",height=7,xlim=(-1.1,0.6),ylim=(-1.1,0.4))\n",
        "plt.show()\n",
        "scipy.stats.spearmanr(Political_leaning[['Political_score','Self-identify']])"
      ],
      "execution_count": null,
      "outputs": [
        {
          "output_type": "display_data",
          "data": {
            "text/plain": [
              "<Figure size 1050x750 with 0 Axes>"
            ]
          },
          "metadata": {
            "tags": []
          }
        },
        {
          "output_type": "display_data",
          "data": {
            "image/png": "[encoded data removed]",
            "text/plain": [
              "<Figure size 504x504 with 3 Axes>"
            ]
          },
          "metadata": {
            "tags": [],
            "needs_background": "light"
          }
        },
        {
          "output_type": "execute_result",
          "data": {
            "text/plain": [
              "SpearmanrResult(correlation=0.4314237311600313, pvalue=0.0001924101387843294)"
            ]
          },
          "metadata": {
            "tags": []
          },
          "execution_count": 83
        }
      ]
    },
    {
      "cell_type": "markdown",
      "metadata": {
        "id": "7qSx35JzZO9G"
      },
      "source": [
        "Normalized Polititcal leaning"
      ]
    },
    {
      "cell_type": "code",
      "metadata": {
        "colab": {
          "base_uri": "https://localhost:8080/",
          "height": 530
        },
        "id": "RRgvXShjol2t",
        "outputId": "67cd774e-58b4-4dda-efae-f5e9c3ab3588"
      },
      "source": [
        "PL_norm=(Political_leaning+1)\n",
        "PL_norm/=2\n",
        "\n",
        "plt.figure(dpi = 150)\n",
        "g=sns.jointplot(x='Self-identify', y='Political_score', data=PL_norm,\n",
        "                  kind=\"reg\",height=7,xlim=(-0.05,0.8),ylim=(-0.05,0.7))\n",
        "plt.show()"
      ],
      "execution_count": null,
      "outputs": [
        {
          "output_type": "display_data",
          "data": {
            "text/plain": [
              "<Figure size 1050x750 with 0 Axes>"
            ]
          },
          "metadata": {
            "tags": []
          }
        },
        {
          "output_type": "display_data",
          "data": {
            "image/png": "[encoded data removed]",
            "text/plain": [
              "<Figure size 504x504 with 3 Axes>"
            ]
          },
          "metadata": {
            "tags": [],
            "needs_background": "light"
          }
        }
      ]
    },
    {
      "cell_type": "markdown",
      "metadata": {
        "id": "BqGzoOOAGp19"
      },
      "source": [
        "Correlation seems to be significant (pvalue<0.05), yet function description reads \"The p-values are not entirely reliable but are probably reasonable for datasets larger than 500 or so.\" Therefore we can not really state anything for 70 instances dataset. I pearsonally see that we have some correlation only starting from -0.25 Self-identify. These are centrist or authoritarian people "
      ]
    },
    {
      "cell_type": "markdown",
      "metadata": {
        "id": "h1I0m0ehfeAg"
      },
      "source": [
        "### Personality traits"
      ]
    },
    {
      "cell_type": "code",
      "metadata": {
        "id": "cQmpDj6QffuZ",
        "colab": {
          "base_uri": "https://localhost:8080/",
          "height": 528
        },
        "outputId": "fb4f3667-0d0b-4037-b25b-4a2a352d1427"
      },
      "source": [
        "colors = ['#1f77b4', '#ff7f0e', '#2ca02c', '#d62728', '#9467bd', '#8c564b', '#e377c2', '#7f7f7f', '#bcbd22', '#17becf']\n",
        "fig = plt.figure(figsize= (20,10),dpi=150)\n",
        "for i,name in enumerate(Hexaco.columns):\n",
        "  plt.subplot(2,3,i+1)\n",
        "  \n",
        "  ax = sns.histplot(Hexaco.iloc[:,i],color = colors[i])\n",
        "  plt.xlim((1,5))\n",
        "  \n",
        "  plt.title(name)\n",
        "  plt.xlabel('')\n",
        "\n",
        "plt.show()"
      ],
      "execution_count": null,
      "outputs": [
        {
          "output_type": "display_data",
          "data": {
            "image/png": "[encoded data removed]",
            "text/plain": [
              "<Figure size 3000x1500 with 6 Axes>"
            ]
          },
          "metadata": {
            "tags": [],
            "needs_background": "light"
          }
        }
      ]
    },
    {
      "cell_type": "markdown",
      "metadata": {
        "id": "EhIy7cL5G2Rh"
      },
      "source": [
        "## Spearman rank correlations"
      ]
    },
    {
      "cell_type": "code",
      "metadata": {
        "id": "ttxSi9MiGMyQ",
        "colab": {
          "base_uri": "https://localhost:8080/",
          "height": 275
        },
        "outputId": "b535d476-2d54-4e34-fa1f-e73c2bc1f43e"
      },
      "source": [
        "df_all=BCE_scores.drop('Total',axis=1).copy()\n",
        "df_all['Fake_news_score']=df_all.mean(axis=1)\n",
        "df_all=df_all.merge(Political_leaning,left_index=True,right_index=True)\n",
        "df_all=df_all.merge(Personality_traits,left_index=True,right_index=True)\n",
        "df_all.head()"
      ],
      "execution_count": null,
      "outputs": [
        {
          "output_type": "execute_result",
          "data": {
            "text/html": [
              "<div>\n",
              "<style scoped>\n",
              "    .dataframe tbody tr th:only-of-type {\n",
              "        vertical-align: middle;\n",
              "    }\n",
              "\n",
              "    .dataframe tbody tr th {\n",
              "        vertical-align: top;\n",
              "    }\n",
              "\n",
              "    .dataframe thead th {\n",
              "        text-align: right;\n",
              "    }\n",
              "</style>\n",
              "<table border=\"1\" class=\"dataframe\">\n",
              "  <thead>\n",
              "    <tr style=\"text-align: right;\">\n",
              "      <th></th>\n",
              "      <th>Abortion FN</th>\n",
              "      <th>Climate TN</th>\n",
              "      <th>Domestic violence FN</th>\n",
              "      <th>Homophobia FN</th>\n",
              "      <th>Weed TN</th>\n",
              "      <th>Fake_news_score</th>\n",
              "      <th>Refugees</th>\n",
              "      <th>Healthcare</th>\n",
              "      <th>Basic quality of living</th>\n",
              "      <th>Same sex couples</th>\n",
              "      <th>Abortion</th>\n",
              "      <th>National defense</th>\n",
              "      <th>Death penalty</th>\n",
              "      <th>Light drugs</th>\n",
              "      <th>Climate change</th>\n",
              "      <th>Minorities</th>\n",
              "      <th>Self-identify</th>\n",
              "      <th>Political_score</th>\n",
              "      <th>Agreeableness</th>\n",
              "      <th>Conscientiousness</th>\n",
              "      <th>Extraversion</th>\n",
              "      <th>Honesty</th>\n",
              "      <th>Originality</th>\n",
              "      <th>Resiliency</th>\n",
              "    </tr>\n",
              "  </thead>\n",
              "  <tbody>\n",
              "    <tr>\n",
              "      <th>1</th>\n",
              "      <td>0.6</td>\n",
              "      <td>0.3</td>\n",
              "      <td>0.6</td>\n",
              "      <td>0.6</td>\n",
              "      <td>0.4</td>\n",
              "      <td>0.50</td>\n",
              "      <td>-0.777778</td>\n",
              "      <td>-1.0</td>\n",
              "      <td>-0.555556</td>\n",
              "      <td>-1.000000</td>\n",
              "      <td>1.000000</td>\n",
              "      <td>-0.111111</td>\n",
              "      <td>0.111111</td>\n",
              "      <td>1.000000</td>\n",
              "      <td>-1.000000</td>\n",
              "      <td>-0.555556</td>\n",
              "      <td>-1.000000</td>\n",
              "      <td>-0.711111</td>\n",
              "      <td>2.0</td>\n",
              "      <td>1.8</td>\n",
              "      <td>5.0</td>\n",
              "      <td>3.4</td>\n",
              "      <td>4.0</td>\n",
              "      <td>1.6</td>\n",
              "    </tr>\n",
              "    <tr>\n",
              "      <th>2</th>\n",
              "      <td>1.0</td>\n",
              "      <td>0.2</td>\n",
              "      <td>0.3</td>\n",
              "      <td>0.8</td>\n",
              "      <td>0.2</td>\n",
              "      <td>0.50</td>\n",
              "      <td>-0.555556</td>\n",
              "      <td>-1.0</td>\n",
              "      <td>-0.111111</td>\n",
              "      <td>-1.000000</td>\n",
              "      <td>1.000000</td>\n",
              "      <td>-0.777778</td>\n",
              "      <td>-1.000000</td>\n",
              "      <td>-0.555556</td>\n",
              "      <td>-0.555556</td>\n",
              "      <td>0.111111</td>\n",
              "      <td>-0.777778</td>\n",
              "      <td>-0.333333</td>\n",
              "      <td>1.8</td>\n",
              "      <td>4.2</td>\n",
              "      <td>4.2</td>\n",
              "      <td>3.6</td>\n",
              "      <td>3.6</td>\n",
              "      <td>1.6</td>\n",
              "    </tr>\n",
              "    <tr>\n",
              "      <th>3</th>\n",
              "      <td>1.0</td>\n",
              "      <td>0.4</td>\n",
              "      <td>0.5</td>\n",
              "      <td>0.6</td>\n",
              "      <td>0.7</td>\n",
              "      <td>0.64</td>\n",
              "      <td>-0.777778</td>\n",
              "      <td>-1.0</td>\n",
              "      <td>-0.111111</td>\n",
              "      <td>-0.777778</td>\n",
              "      <td>0.555556</td>\n",
              "      <td>-0.333333</td>\n",
              "      <td>-0.777778</td>\n",
              "      <td>0.111111</td>\n",
              "      <td>0.777778</td>\n",
              "      <td>0.333333</td>\n",
              "      <td>-0.555556</td>\n",
              "      <td>-0.177778</td>\n",
              "      <td>2.8</td>\n",
              "      <td>2.2</td>\n",
              "      <td>4.0</td>\n",
              "      <td>3.0</td>\n",
              "      <td>3.2</td>\n",
              "      <td>1.8</td>\n",
              "    </tr>\n",
              "    <tr>\n",
              "      <th>4</th>\n",
              "      <td>1.0</td>\n",
              "      <td>0.7</td>\n",
              "      <td>0.1</td>\n",
              "      <td>0.9</td>\n",
              "      <td>0.3</td>\n",
              "      <td>0.60</td>\n",
              "      <td>-1.000000</td>\n",
              "      <td>-1.0</td>\n",
              "      <td>-0.555556</td>\n",
              "      <td>-1.000000</td>\n",
              "      <td>1.000000</td>\n",
              "      <td>-1.000000</td>\n",
              "      <td>-0.555556</td>\n",
              "      <td>1.000000</td>\n",
              "      <td>-0.777778</td>\n",
              "      <td>-1.000000</td>\n",
              "      <td>-0.777778</td>\n",
              "      <td>-0.777778</td>\n",
              "      <td>4.2</td>\n",
              "      <td>1.2</td>\n",
              "      <td>3.8</td>\n",
              "      <td>3.6</td>\n",
              "      <td>4.2</td>\n",
              "      <td>3.6</td>\n",
              "    </tr>\n",
              "    <tr>\n",
              "      <th>5</th>\n",
              "      <td>0.7</td>\n",
              "      <td>0.8</td>\n",
              "      <td>0.2</td>\n",
              "      <td>0.5</td>\n",
              "      <td>0.5</td>\n",
              "      <td>0.54</td>\n",
              "      <td>-1.000000</td>\n",
              "      <td>-1.0</td>\n",
              "      <td>-1.000000</td>\n",
              "      <td>-1.000000</td>\n",
              "      <td>1.000000</td>\n",
              "      <td>-0.777778</td>\n",
              "      <td>0.777778</td>\n",
              "      <td>1.000000</td>\n",
              "      <td>-1.000000</td>\n",
              "      <td>-1.000000</td>\n",
              "      <td>-1.000000</td>\n",
              "      <td>-0.955556</td>\n",
              "      <td>4.2</td>\n",
              "      <td>4.2</td>\n",
              "      <td>3.6</td>\n",
              "      <td>4.2</td>\n",
              "      <td>5.0</td>\n",
              "      <td>2.6</td>\n",
              "    </tr>\n",
              "  </tbody>\n",
              "</table>\n",
              "</div>"
            ],
            "text/plain": [
              "   Abortion FN  Climate TN  ...  Originality  Resiliency\n",
              "1          0.6         0.3  ...          4.0         1.6\n",
              "2          1.0         0.2  ...          3.6         1.6\n",
              "3          1.0         0.4  ...          3.2         1.8\n",
              "4          1.0         0.7  ...          4.2         3.6\n",
              "5          0.7         0.8  ...          5.0         2.6\n",
              "\n",
              "[5 rows x 24 columns]"
            ]
          },
          "metadata": {
            "tags": []
          },
          "execution_count": 89
        }
      ]
    },
    {
      "cell_type": "code",
      "metadata": {
        "id": "ZxCnK3yWGzge"
      },
      "source": [
        "def spearmanr_pval(x,y):\n",
        "    return scipy.stats.spearmanr(x,y)[1]\n",
        "\n",
        "# calculate the correlations\n",
        "corr = df_all.corr(method='spearman')\n",
        "# calculate p-values\n",
        "corr_p = df_all.corr(method=spearmanr_pval)"
      ],
      "execution_count": null,
      "outputs": []
    },
    {
      "cell_type": "code",
      "metadata": {
        "id": "4_7yRR88gt0g"
      },
      "source": [
        "# select correlations and p-values of interest, namely Fake News columns\n",
        "# Also get rid of Fake News indices (iloc[6:]), since they obviously have corr=1\n",
        "corr_selected = corr[df_all.columns[:6]].loc[df_all.columns.values].iloc[6:]\n",
        "corr_p_selected = corr_p[df_all.columns[:6]].loc[df_all.columns.values].iloc[6:]\n",
        "#print(corr[corr_p < 0.051]['Resiliency'])\n",
        "#print(corr_p['Resiliency'])"
      ],
      "execution_count": null,
      "outputs": []
    },
    {
      "cell_type": "code",
      "metadata": {
        "id": "-hSnKgUaGzjM"
      },
      "source": [
        "#Split correlations on Fake News, Political Leaning and Personality traits\n",
        "corr_FN_PolitLeaning = corr[df_all.columns[:6]].loc[df_all.columns.values].iloc[6:-6]\n",
        "corr_p_FN_PolitLeaning = corr_p[df_all.columns[:6]].loc[df_all.columns.values].iloc[6:-6]\n",
        "\n",
        "corr_FN_Personality = corr[df_all.columns[:6]].loc[df_all.columns.values].iloc[-6:]\n",
        "corr_p_FN_Personality = corr_p[df_all.columns[:6]].loc[df_all.columns.values].iloc[-6:]\n",
        "\n",
        "corr_PolitLeaning_Personality = corr[df_all.columns[-6:]].iloc[6:-6]\n",
        "corr_p_PolitLeaning_Personality = corr_p[df_all.columns[-6:]].iloc[6:-6]"
      ],
      "execution_count": null,
      "outputs": []
    },
    {
      "cell_type": "markdown",
      "metadata": {
        "id": "OmcQZw4BbAwz"
      },
      "source": [
        "### Political leaning vs Fake News"
      ]
    },
    {
      "cell_type": "code",
      "metadata": {
        "id": "kPHy_JVubGAg"
      },
      "source": [
        "mask_Siginficant_rows_cols=np.where((corr_p_FN_PolitLeaning<0.05).any(axis=1))[0],np.where((corr_p_FN_PolitLeaning<0.05).any(axis=0))[0]\n",
        "\n",
        "corr_p_FN_PolitLeaning=corr_p_FN_PolitLeaning.iloc[mask_Siginficant_rows_cols]\n",
        "corr_FN_PolitLeaning=corr_FN_PolitLeaning.iloc[mask_Siginficant_rows_cols]\n",
        "corr_FN_PolitLeaning[corr_p_FN_PolitLeaning>0.05]=np.nan"
      ],
      "execution_count": null,
      "outputs": []
    },
    {
      "cell_type": "code",
      "metadata": {
        "id": "RWebX4JhbxFU",
        "colab": {
          "base_uri": "https://localhost:8080/",
          "height": 634
        },
        "outputId": "1a271ea8-5fec-4dee-ef1e-2182bb5f6539"
      },
      "source": [
        "FN_columns=np.array(corr_FN_PolitLeaning.columns)\n",
        "FN_columns[:-1]=[x[:-2] for x in corr_FN_PolitLeaning.columns[:-1]]\n",
        "\n",
        "plt.figure(figsize=(11,9))\n",
        "# Generate a custom diverging colormap\n",
        "cmap = sns.diverging_palette(250, 15, s=75, l=40,n=9,as_cmap=True,center='dark')\n",
        "# Draw the heatmap with the mask and correct aspect ratio\n",
        "b = sns.heatmap(corr_FN_PolitLeaning, cmap=cmap, center=0,\n",
        "            square=True, linewidths=.5, cbar_kws={\"shrink\": .5})\n",
        "b.set_title('Significant Spearman correlation')\n",
        "b.set_xlabel('Fake News')\n",
        "b.set_ylabel('Political leaning questions')\n",
        "b.set_yticklabels(b.get_yticklabels(), size = 9)\n",
        "b.set_xticklabels(FN_columns, size = 9)\n",
        "\n",
        "plt.show()"
      ],
      "execution_count": null,
      "outputs": [
        {
          "output_type": "display_data",
          "data": {
            "image/png": "[encoded data removed]",
            "text/plain": [
              "<Figure size 792x648 with 2 Axes>"
            ]
          },
          "metadata": {
            "tags": [],
            "needs_background": "light"
          }
        }
      ]
    },
    {
      "cell_type": "markdown",
      "metadata": {
        "id": "Wq-dBFGhcFsO"
      },
      "source": [
        "We do not see a significant correlation between overall Political leaning and overall Fake News score. However, we find a lot of correlations between specific topics of Political leaning and specific Fake News.  Moreover, we find significant correlation for two Political leaning features with overall Fake News score and for two specific Fake News scores with overall Political leaning.\n",
        "Yet specific features concerned in these correlations appear to have mostly disbalanced distribution, since most of participants voted for one border value. \n",
        "To test whether significance is caused by disbalance we excluded people answered border values and estimated correlations again."
      ]
    },
    {
      "cell_type": "code",
      "metadata": {
        "colab": {
          "base_uri": "https://localhost:8080/"
        },
        "id": "ZI9bh7zkdozb",
        "outputId": "ebd4f467-eba3-4048-84d5-e2bd3faa2be9"
      },
      "source": [
        "df_unbiased=df_all[df_all['Abortion FN']!=df_all['Abortion FN'].min()]\n",
        "scipy.stats.spearmanr(df_unbiased['Abortion FN'],df_unbiased['Political_score'])"
      ],
      "execution_count": null,
      "outputs": [
        {
          "output_type": "execute_result",
          "data": {
            "text/plain": [
              "SpearmanrResult(correlation=-0.29791375138891946, pvalue=0.012912189262002645)"
            ]
          },
          "metadata": {
            "tags": []
          },
          "execution_count": 99
        }
      ]
    },
    {
      "cell_type": "code",
      "metadata": {
        "colab": {
          "base_uri": "https://localhost:8080/"
        },
        "id": "K8eRe-uMejpg",
        "outputId": "3603db9d-a7e8-49aa-a7a0-5627ccc21f34"
      },
      "source": [
        "df_unbiased=df_all[df_all['Homophobia FN']!=df_all['Homophobia FN'].min()]\n",
        "scipy.stats.spearmanr(df_unbiased['Homophobia FN'],df_unbiased['Political_score'])"
      ],
      "execution_count": null,
      "outputs": [
        {
          "output_type": "execute_result",
          "data": {
            "text/plain": [
              "SpearmanrResult(correlation=-0.35063221325405525, pvalue=0.0033737070877100117)"
            ]
          },
          "metadata": {
            "tags": []
          },
          "execution_count": 100
        }
      ]
    },
    {
      "cell_type": "code",
      "metadata": {
        "colab": {
          "base_uri": "https://localhost:8080/"
        },
        "id": "hlR4FIH_hUxZ",
        "outputId": "57b2b5a2-8138-40f6-9be6-eb22345e2b0d"
      },
      "source": [
        "#It was marginally insignificant, let's take a look at the change anyway\n",
        "print(\"Disbalanced p value\",corr_p_FN_PolitLeaning.loc['Healthcare','Fake_news_score'])\n",
        "df_unbiased=df_all[df_all['Healthcare']!=df_all['Healthcare'].min()]\n",
        "print(\"Balanced\",scipy.stats.spearmanr(df_unbiased['Healthcare'],df_unbiased['Fake_news_score']))"
      ],
      "execution_count": null,
      "outputs": [
        {
          "output_type": "stream",
          "text": [
            "Disbalanced p value 0.050835851261154585\n",
            "Balanced SpearmanrResult(correlation=-0.27628890687125324, pvalue=0.1324378246617971)\n"
          ],
          "name": "stdout"
        }
      ]
    },
    {
      "cell_type": "code",
      "metadata": {
        "colab": {
          "base_uri": "https://localhost:8080/"
        },
        "id": "KhTMIbiHgGFu",
        "outputId": "033a822c-d482-431f-c59c-3e51ce6855bd"
      },
      "source": [
        "df_unbiased=df_all[df_all['Same sex couples']!=df_all['Same sex couples'].min()]\n",
        "scipy.stats.spearmanr(df_unbiased['Same sex couples'],df_unbiased['Fake_news_score'])"
      ],
      "execution_count": null,
      "outputs": [
        {
          "output_type": "execute_result",
          "data": {
            "text/plain": [
              "SpearmanrResult(correlation=-0.3361143175561732, pvalue=0.12616900770295142)"
            ]
          },
          "metadata": {
            "tags": []
          },
          "execution_count": 103
        }
      ]
    },
    {
      "cell_type": "markdown",
      "metadata": {
        "id": "vmOrgwL5d4pI"
      },
      "source": [
        "For balanced dataset both overall Fake news score-related correlations became insignificant, therefore we can conclude that they are due to disbalance, rather than natural impact of specific political leaning aspects."
      ]
    },
    {
      "cell_type": "markdown",
      "metadata": {
        "id": "cLtIi6RzeCRf"
      },
      "source": [
        "### Personality traits vs Fake News"
      ]
    },
    {
      "cell_type": "code",
      "metadata": {
        "id": "C5d0K484mbt6"
      },
      "source": [
        "corr_FN_Personality[corr_p_FN_Personality>0.05]=np.nan"
      ],
      "execution_count": null,
      "outputs": []
    },
    {
      "cell_type": "code",
      "metadata": {
        "colab": {
          "base_uri": "https://localhost:8080/",
          "height": 644
        },
        "id": "-BMMY_o-mZ0w",
        "outputId": "6280d5ae-cb02-451b-b454-1f11d0bd88c7"
      },
      "source": [
        "FN_columns=np.array(corr_FN_Personality.columns)\n",
        "FN_columns[:-1]=[x[:-2] for x in corr_FN_Personality.columns[:-1]]\n",
        "\n",
        "plt.figure(figsize=(11,9))\n",
        "# Generate a custom diverging colormap\n",
        "cmap = sns.diverging_palette(250, 15, s=75, l=40,n=9,as_cmap=True,center='dark')\n",
        "# Draw the heatmap with the mask and correct aspect ratio\n",
        "b = sns.heatmap(corr_FN_Personality, cmap=cmap, center=0,\n",
        "            square=True, linewidths=.5, cbar_kws={\"shrink\": .5})\n",
        "b.set_title('Significant Spearman correlation')\n",
        "b.set_xlabel('Fake News')\n",
        "b.set_ylabel('Personality traits')\n",
        "b.set_yticklabels(b.get_yticklabels(), size = 9)\n",
        "b.set_xticklabels(FN_columns, size = 9)\n",
        "\n",
        "plt.show()"
      ],
      "execution_count": null,
      "outputs": [
        {
          "output_type": "display_data",
          "data": {
            "image/png": "[encoded data removed]",
            "text/plain": [
              "<Figure size 792x648 with 2 Axes>"
            ]
          },
          "metadata": {
            "tags": [],
            "needs_background": "light"
          }
        }
      ]
    },
    {
      "cell_type": "markdown",
      "metadata": {
        "id": "qfqtq-WYeXmp"
      },
      "source": [
        "There is only one Personality trait significantly (p=.03) correlating with only one specific Fake News piece detection"
      ]
    },
    {
      "cell_type": "markdown",
      "metadata": {
        "id": "RlUbkoqleYwH"
      },
      "source": [
        "### Personality traits vs Political leaning"
      ]
    },
    {
      "cell_type": "code",
      "metadata": {
        "id": "VjYeJ_8wRBtE"
      },
      "source": [
        "mask_Siginficant_rows_cols=np.where((corr_p_PolitLeaning_Personality<0.05).any(axis=1))[0],np.where((corr_p_PolitLeaning_Personality<0.05).any(axis=0))[0]\n",
        "\n",
        "corr_p_PolitLeaning_Personality=corr_p_PolitLeaning_Personality.iloc[mask_Siginficant_rows_cols]\n",
        "corr_PolitLeaning_Personality=corr_PolitLeaning_Personality.iloc[mask_Siginficant_rows_cols]\n",
        "corr_PolitLeaning_Personality[corr_p_PolitLeaning_Personality>0.05]=np.nan"
      ],
      "execution_count": null,
      "outputs": []
    },
    {
      "cell_type": "code",
      "metadata": {
        "colab": {
          "base_uri": "https://localhost:8080/",
          "height": 471
        },
        "id": "wgFn53UARKPo",
        "outputId": "aa73bf54-4e58-4467-a85c-fe5d0a06cfab"
      },
      "source": [
        "FN_columns=np.array(corr_PolitLeaning_Personality.columns)\n",
        "FN_columns[:-1]=[x[:-2] for x in corr_PolitLeaning_Personality.columns[:-1]]\n",
        "\n",
        "plt.figure(figsize=(11,9))\n",
        "# Generate a custom diverging colormap\n",
        "cmap = sns.diverging_palette(250, 15, s=75, l=40,n=9,as_cmap=True,center='dark')\n",
        "# Draw the heatmap with the mask and correct aspect ratio\n",
        "b = sns.heatmap(corr_PolitLeaning_Personality, cmap=cmap, center=0,\n",
        "            square=True, linewidths=.5, cbar_kws={\"shrink\": .5})\n",
        "b.set_title('Significant Spearman correlation')\n",
        "b.set_xlabel('Personality traits')\n",
        "b.set_ylabel('Political leaning questions')\n",
        "b.set_yticklabels(b.get_yticklabels(), size = 9)\n",
        "#b.set_xticklabels(FN_columns, size = 9)\n",
        "\n",
        "plt.show()"
      ],
      "execution_count": null,
      "outputs": [
        {
          "output_type": "display_data",
          "data": {
            "image/png": "[encoded data removed]",
            "text/plain": [
              "<Figure size 792x648 with 2 Axes>"
            ]
          },
          "metadata": {
            "tags": [],
            "needs_background": "light"
          }
        }
      ]
    },
    {
      "cell_type": "markdown",
      "metadata": {
        "id": "6Ldb34_WfSaq"
      },
      "source": [
        "In this section, we got several significant and logically sensible correlations\n",
        "For instance, extroverts empathize more to mothers who don’t want to have a child, hence extroverts approve abortion."
      ]
    },
    {
      "cell_type": "markdown",
      "metadata": {
        "id": "x_dfyGO8fwIK"
      },
      "source": [
        "## Linear regressions"
      ]
    },
    {
      "cell_type": "code",
      "metadata": {
        "id": "IBUrMynwf1UG"
      },
      "source": [
        "from statsmodels.regression.linear_model import OLS\n",
        "\n",
        "def get_regression_summary(X,y):\n",
        "    #envoke a model that predicts label by all the demographic features\n",
        "    model = LM.OLS(y, X)\n",
        "    res = model.fit()\n",
        "    #Transform results with LR coefficients to DataFrame\n",
        "    results_as_html = res.summary().tables[1].as_html()\n",
        "    df_summary=pd.read_html(results_as_html, header=0, index_col=0)[0]\n",
        "    \n",
        "    #Consider only significant coefficients\n",
        "    print(\"F-statistic p_value {:.3f}\".format(res.f_pvalue))\n",
        "    return df_summary[df_summary['P>|t|']<0.05][['coef', 'std err', 'P>|t|','[0.025','0.975]']],res"
      ],
      "execution_count": null,
      "outputs": []
    },
    {
      "cell_type": "markdown",
      "metadata": {
        "id": "M_Hu7PUwgw8A"
      },
      "source": [
        "In this method we normalize all features to have M=0,SD=1, so that they all have the same initial impact. Next we try to predict target parameter using linear regression over considered features. In this case linear coefficients mark an impact of a given feature on target excluding confounding impact of the other features."
      ]
    },
    {
      "cell_type": "code",
      "metadata": {
        "id": "bSf_fLivgv_U"
      },
      "source": [
        "Features=df_all.copy()\n",
        "Features-=Features.mean(axis=0)\n",
        "Features/=Features.std(axis=0)"
      ],
      "execution_count": null,
      "outputs": []
    },
    {
      "cell_type": "markdown",
      "metadata": {
        "id": "NhpunqXxgSMi"
      },
      "source": [
        "### Political score vs Fake News score"
      ]
    },
    {
      "cell_type": "code",
      "metadata": {
        "id": "p_NDe1legS5k",
        "colab": {
          "base_uri": "https://localhost:8080/",
          "height": 521
        },
        "outputId": "c97d7400-6e4d-4e6c-e410-3318bb10a69b"
      },
      "source": [
        "X=Features['Political_score']\n",
        "y=Features['Fake_news_score']\n",
        "df_coefs,model=get_regression_summary(X,y)\n",
        "sns.jointplot(x=X,y=y,kind=\"reg\")\n",
        "df_coefs"
      ],
      "execution_count": null,
      "outputs": [
        {
          "output_type": "stream",
          "text": [
            "F-statistic p_value 0.035\n"
          ],
          "name": "stdout"
        },
        {
          "output_type": "execute_result",
          "data": {
            "text/html": [
              "<div>\n",
              "<style scoped>\n",
              "    .dataframe tbody tr th:only-of-type {\n",
              "        vertical-align: middle;\n",
              "    }\n",
              "\n",
              "    .dataframe tbody tr th {\n",
              "        vertical-align: top;\n",
              "    }\n",
              "\n",
              "    .dataframe thead th {\n",
              "        text-align: right;\n",
              "    }\n",
              "</style>\n",
              "<table border=\"1\" class=\"dataframe\">\n",
              "  <thead>\n",
              "    <tr style=\"text-align: right;\">\n",
              "      <th></th>\n",
              "      <th>coef</th>\n",
              "      <th>std err</th>\n",
              "      <th>P&gt;|t|</th>\n",
              "      <th>[0.025</th>\n",
              "      <th>0.975]</th>\n",
              "    </tr>\n",
              "  </thead>\n",
              "  <tbody>\n",
              "    <tr>\n",
              "      <th>Political_score</th>\n",
              "      <td>-0.2503</td>\n",
              "      <td>0.117</td>\n",
              "      <td>0.035</td>\n",
              "      <td>-0.483</td>\n",
              "      <td>-0.018</td>\n",
              "    </tr>\n",
              "  </tbody>\n",
              "</table>\n",
              "</div>"
            ],
            "text/plain": [
              "                   coef  std err  P>|t|  [0.025  0.975]\n",
              "Political_score -0.2503    0.117  0.035  -0.483  -0.018"
            ]
          },
          "metadata": {
            "tags": []
          },
          "execution_count": 142
        },
        {
          "output_type": "display_data",
          "data": {
            "image/png": "[encoded data removed]",
            "text/plain": [
              "<Figure size 432x432 with 3 Axes>"
            ]
          },
          "metadata": {
            "tags": [],
            "needs_background": "light"
          }
        }
      ]
    },
    {
      "cell_type": "markdown",
      "metadata": {
        "id": "NtEdlFRwiKDD"
      },
      "source": [
        "### Personality traits vs Fake News score"
      ]
    },
    {
      "cell_type": "code",
      "metadata": {
        "id": "CvIFDz5biIYC",
        "colab": {
          "base_uri": "https://localhost:8080/",
          "height": 66
        },
        "outputId": "19b58726-dac2-4845-9586-2259f1a786db"
      },
      "source": [
        "X=Features.loc[:,Personality_traits.columns]\n",
        "y=Features['Fake_news_score']\n",
        "df_coefs,model=get_regression_summary(X,y)\n",
        "df_coefs"
      ],
      "execution_count": null,
      "outputs": [
        {
          "output_type": "stream",
          "text": [
            "F-statistic p_value 0.388\n"
          ],
          "name": "stdout"
        },
        {
          "output_type": "execute_result",
          "data": {
            "text/html": [
              "<div>\n",
              "<style scoped>\n",
              "    .dataframe tbody tr th:only-of-type {\n",
              "        vertical-align: middle;\n",
              "    }\n",
              "\n",
              "    .dataframe tbody tr th {\n",
              "        vertical-align: top;\n",
              "    }\n",
              "\n",
              "    .dataframe thead th {\n",
              "        text-align: right;\n",
              "    }\n",
              "</style>\n",
              "<table border=\"1\" class=\"dataframe\">\n",
              "  <thead>\n",
              "    <tr style=\"text-align: right;\">\n",
              "      <th></th>\n",
              "      <th>coef</th>\n",
              "      <th>std err</th>\n",
              "      <th>P&gt;|t|</th>\n",
              "      <th>[0.025</th>\n",
              "      <th>0.975]</th>\n",
              "    </tr>\n",
              "  </thead>\n",
              "  <tbody>\n",
              "  </tbody>\n",
              "</table>\n",
              "</div>"
            ],
            "text/plain": [
              "Empty DataFrame\n",
              "Columns: [coef, std err, P>|t|, [0.025, 0.975]]\n",
              "Index: []"
            ]
          },
          "metadata": {
            "tags": []
          },
          "execution_count": 148
        }
      ]
    },
    {
      "cell_type": "markdown",
      "metadata": {
        "id": "khl1ZbWCi6iK"
      },
      "source": [
        "No Personality features features have a significant impact on the Fake News score"
      ]
    },
    {
      "cell_type": "markdown",
      "metadata": {
        "id": "rjhzA-X3iYTi"
      },
      "source": [
        "### Personality traits vs Political leaning score"
      ]
    },
    {
      "cell_type": "code",
      "metadata": {
        "id": "au8oQQBfi-IJ",
        "colab": {
          "base_uri": "https://localhost:8080/",
          "height": 521
        },
        "outputId": "a65c7abb-d8cc-42bb-882e-a4e92b237b39"
      },
      "source": [
        "X=Features.loc[:,Personality_traits.columns]\n",
        "y=Features['Political_score']\n",
        "df_coefs,model=get_regression_summary(X,y)\n",
        "sns.jointplot(x=X[df_coefs.index[0]],y=y,kind=\"reg\")\n",
        "df_coefs"
      ],
      "execution_count": null,
      "outputs": [
        {
          "output_type": "stream",
          "text": [
            "F-statistic p_value 0.105\n"
          ],
          "name": "stdout"
        },
        {
          "output_type": "execute_result",
          "data": {
            "text/html": [
              "<div>\n",
              "<style scoped>\n",
              "    .dataframe tbody tr th:only-of-type {\n",
              "        vertical-align: middle;\n",
              "    }\n",
              "\n",
              "    .dataframe tbody tr th {\n",
              "        vertical-align: top;\n",
              "    }\n",
              "\n",
              "    .dataframe thead th {\n",
              "        text-align: right;\n",
              "    }\n",
              "</style>\n",
              "<table border=\"1\" class=\"dataframe\">\n",
              "  <thead>\n",
              "    <tr style=\"text-align: right;\">\n",
              "      <th></th>\n",
              "      <th>coef</th>\n",
              "      <th>std err</th>\n",
              "      <th>P&gt;|t|</th>\n",
              "      <th>[0.025</th>\n",
              "      <th>0.975]</th>\n",
              "    </tr>\n",
              "  </thead>\n",
              "  <tbody>\n",
              "    <tr>\n",
              "      <th>Extraversion</th>\n",
              "      <td>-0.3075</td>\n",
              "      <td>0.119</td>\n",
              "      <td>0.012</td>\n",
              "      <td>-0.545</td>\n",
              "      <td>-0.07</td>\n",
              "    </tr>\n",
              "  </tbody>\n",
              "</table>\n",
              "</div>"
            ],
            "text/plain": [
              "                coef  std err  P>|t|  [0.025  0.975]\n",
              "Extraversion -0.3075    0.119  0.012  -0.545   -0.07"
            ]
          },
          "metadata": {
            "tags": []
          },
          "execution_count": 153
        },
        {
          "output_type": "display_data",
          "data": {
            "image/png": "[encoded data removed]",
            "text/plain": [
              "<Figure size 432x432 with 3 Axes>"
            ]
          },
          "metadata": {
            "tags": [],
            "needs_background": "light"
          }
        }
      ]
    },
    {
      "cell_type": "markdown",
      "metadata": {
        "id": "RWLuYw_wll4c"
      },
      "source": [
        "# Discussion"
      ]
    },
    {
      "cell_type": "markdown",
      "metadata": {
        "id": "4uivNR_-lsYi"
      },
      "source": [
        "## Personality traits vs Fake News"
      ]
    },
    {
      "cell_type": "markdown",
      "metadata": {
        "id": "-VDt_qP6mMJW"
      },
      "source": [
        "In this section the hypothesis was **“Originality and Resiliency are positively related to the ability to detect fake news”**.  \n",
        "\n",
        "However, in practice, no strong correlation for either Originality (P=.31 for Spearman correlation and P=.5 for Linear regression) or Resiliency (P=.66 for Spearman correlation and P=.9 for Linear regression) were found. None of Big 6 features showed significance in either correlation or linear impact. Therefore, we can conclude that on the given data we find our first hypothesis disproved.Moreover, we can suggest that Personality traits may not affect Fake News detection at all.   \n",
        "\n",
        "Our hypothesis was drawn from a diverse political spectrum research whereas our sample of participants has political views from liberal to centrists (M=0.2, SD=0.14 with 0 for Liberal and 1 for Conservative), moreover, average age was 22.23 years (SD=5.64). The fact that our sample was disbalanced in these features implies that our results may be applied only on these people subclasses, yet they can not be certainly extrapolated on any given sample of people."
      ]
    },
    {
      "cell_type": "code",
      "metadata": {
        "id": "5042vUEsm2q2",
        "colab": {
          "base_uri": "https://localhost:8080/",
          "height": 644
        },
        "outputId": "e94e4858-a962-434d-be49-d3b35b4e6971"
      },
      "source": [
        "FN_columns=np.array(corr_FN_Personality.columns)\n",
        "FN_columns[:-1]=[x[:-2] for x in corr_FN_Personality.columns[:-1]]\n",
        "\n",
        "plt.figure(figsize=(11,9))\n",
        "# Generate a custom diverging colormap\n",
        "cmap = sns.diverging_palette(250, 15, s=75, l=40,n=9,as_cmap=True,center='dark')\n",
        "# Draw the heatmap with the mask and correct aspect ratio\n",
        "b = sns.heatmap(corr_FN_Personality, cmap=cmap, center=0,\n",
        "            square=True, linewidths=.5, cbar_kws={\"shrink\": .5})\n",
        "b.set_title('Significant Spearman correlation')\n",
        "b.set_xlabel('Fake News')\n",
        "b.set_ylabel('Personality traits')\n",
        "b.set_yticklabels(b.get_yticklabels(), size = 9)\n",
        "b.set_xticklabels(FN_columns, size = 9)\n",
        "\n",
        "plt.show()"
      ],
      "execution_count": null,
      "outputs": [
        {
          "output_type": "display_data",
          "data": {
            "image/png": "[encoded data removed]",
            "text/plain": [
              "<Figure size 792x648 with 2 Axes>"
            ]
          },
          "metadata": {
            "tags": [],
            "needs_background": "light"
          }
        }
      ]
    },
    {
      "cell_type": "code",
      "metadata": {
        "id": "rDd6GNGKnIEw",
        "colab": {
          "base_uri": "https://localhost:8080/",
          "height": 66
        },
        "outputId": "7a7fc914-49fb-4d36-ef47-c46793a962d4"
      },
      "source": [
        "X=Features.loc[:,Personality_traits.columns]\n",
        "y=Features['Fake_news_score']\n",
        "df_coefs,model=get_regression_summary(X,y)\n",
        "df_coefs"
      ],
      "execution_count": null,
      "outputs": [
        {
          "output_type": "stream",
          "text": [
            "F-statistic p_value 0.388\n"
          ],
          "name": "stdout"
        },
        {
          "output_type": "execute_result",
          "data": {
            "text/html": [
              "<div>\n",
              "<style scoped>\n",
              "    .dataframe tbody tr th:only-of-type {\n",
              "        vertical-align: middle;\n",
              "    }\n",
              "\n",
              "    .dataframe tbody tr th {\n",
              "        vertical-align: top;\n",
              "    }\n",
              "\n",
              "    .dataframe thead th {\n",
              "        text-align: right;\n",
              "    }\n",
              "</style>\n",
              "<table border=\"1\" class=\"dataframe\">\n",
              "  <thead>\n",
              "    <tr style=\"text-align: right;\">\n",
              "      <th></th>\n",
              "      <th>coef</th>\n",
              "      <th>std err</th>\n",
              "      <th>P&gt;|t|</th>\n",
              "      <th>[0.025</th>\n",
              "      <th>0.975]</th>\n",
              "    </tr>\n",
              "  </thead>\n",
              "  <tbody>\n",
              "  </tbody>\n",
              "</table>\n",
              "</div>"
            ],
            "text/plain": [
              "Empty DataFrame\n",
              "Columns: [coef, std err, P>|t|, [0.025, 0.975]]\n",
              "Index: []"
            ]
          },
          "metadata": {
            "tags": []
          },
          "execution_count": 155
        }
      ]
    },
    {
      "cell_type": "markdown",
      "metadata": {
        "id": "HlBbWHLwltry"
      },
      "source": [
        "## Political leaning vs Fake News"
      ]
    },
    {
      "cell_type": "markdown",
      "metadata": {
        "id": "qaBXV50AnNgU"
      },
      "source": [
        "In this section out hypothesis was **“Fake news detection capabilities are not influenced by (moderate) political leaning”**.\n",
        " However, using method based on linear regression we significantly (P=.04) find that Liberals are better in resolving Fake News then Centrists  (M=-0.25, SD=0.12, in the table and figure)."
      ]
    },
    {
      "cell_type": "code",
      "metadata": {
        "id": "TZsmH_AUlxRT",
        "colab": {
          "base_uri": "https://localhost:8080/",
          "height": 521
        },
        "outputId": "0ccbd650-a683-41ca-baf6-b369648a062b"
      },
      "source": [
        "X=Features['Political_score']\n",
        "y=Features['Fake_news_score']\n",
        "df_coefs,model=get_regression_summary(X,y)\n",
        "sns.jointplot(x=X,y=y,kind=\"reg\")\n",
        "df_coefs"
      ],
      "execution_count": null,
      "outputs": [
        {
          "output_type": "stream",
          "text": [
            "F-statistic p_value 0.035\n"
          ],
          "name": "stdout"
        },
        {
          "output_type": "execute_result",
          "data": {
            "text/html": [
              "<div>\n",
              "<style scoped>\n",
              "    .dataframe tbody tr th:only-of-type {\n",
              "        vertical-align: middle;\n",
              "    }\n",
              "\n",
              "    .dataframe tbody tr th {\n",
              "        vertical-align: top;\n",
              "    }\n",
              "\n",
              "    .dataframe thead th {\n",
              "        text-align: right;\n",
              "    }\n",
              "</style>\n",
              "<table border=\"1\" class=\"dataframe\">\n",
              "  <thead>\n",
              "    <tr style=\"text-align: right;\">\n",
              "      <th></th>\n",
              "      <th>coef</th>\n",
              "      <th>std err</th>\n",
              "      <th>P&gt;|t|</th>\n",
              "      <th>[0.025</th>\n",
              "      <th>0.975]</th>\n",
              "    </tr>\n",
              "  </thead>\n",
              "  <tbody>\n",
              "    <tr>\n",
              "      <th>Political_score</th>\n",
              "      <td>-0.2503</td>\n",
              "      <td>0.117</td>\n",
              "      <td>0.035</td>\n",
              "      <td>-0.483</td>\n",
              "      <td>-0.018</td>\n",
              "    </tr>\n",
              "  </tbody>\n",
              "</table>\n",
              "</div>"
            ],
            "text/plain": [
              "                   coef  std err  P>|t|  [0.025  0.975]\n",
              "Political_score -0.2503    0.117  0.035  -0.483  -0.018"
            ]
          },
          "metadata": {
            "tags": []
          },
          "execution_count": 156
        },
        {
          "output_type": "display_data",
          "data": {
            "image/png": "[encoded data removed]",
            "text/plain": [
              "<Figure size 432x432 with 3 Axes>"
            ]
          },
          "metadata": {
            "tags": [],
            "needs_background": "light"
          }
        }
      ]
    },
    {
      "cell_type": "markdown",
      "metadata": {
        "id": "-T2cPcBAnfox"
      },
      "source": [
        "Sindermann et al. 2020 showed that Right-Wing Authoritarianism is associated with selective interest in information fitting with one’s attitudes.  \n",
        "\n",
        "From our results, we may conclude that this effect may propagate on centrists resulting in worse performance in Fake News detection. On the other hand, in same article, there was small evidence on the fact that liberals tend to consume a higher number of news sources. It may improve their ability to resolve Fake News due to considering information coming from different sources. Both of these explanations may work as they coincide with the findings of our study."
      ]
    },
    {
      "cell_type": "markdown",
      "metadata": {
        "id": "xevM9qTblxg9"
      },
      "source": [
        "## Personality traits vs Political leaning"
      ]
    },
    {
      "cell_type": "markdown",
      "metadata": {
        "id": "fyZINSU9ns8B"
      },
      "source": [
        "In this section the hypothesis drawn from Chirumbolo et al 2010  was **“Conscientiousness, agreeableness, and originality are typically found to predict political criteria”**. Unlikely, analysis of Spearman correlations confirmed only agreeableness to predict political criteria (R=-0.28, P=.02)."
      ]
    },
    {
      "cell_type": "code",
      "metadata": {
        "id": "HDcqMinWlnNo",
        "colab": {
          "base_uri": "https://localhost:8080/",
          "height": 471
        },
        "outputId": "70612dc1-a7c6-41e1-ac11-ca29fec12b46"
      },
      "source": [
        "FN_columns=np.array(corr_PolitLeaning_Personality.columns)\n",
        "FN_columns[:-1]=[x[:-2] for x in corr_PolitLeaning_Personality.columns[:-1]]\n",
        "\n",
        "plt.figure(figsize=(11,9))\n",
        "# Generate a custom diverging colormap\n",
        "cmap = sns.diverging_palette(250, 15, s=75, l=40,n=9,as_cmap=True,center='dark')\n",
        "# Draw the heatmap with the mask and correct aspect ratio\n",
        "b = sns.heatmap(corr_PolitLeaning_Personality, cmap=cmap, center=0,\n",
        "            square=True, linewidths=.5, cbar_kws={\"shrink\": .5})\n",
        "b.set_title('Significant Spearman correlation')\n",
        "b.set_xlabel('Personality traits')\n",
        "b.set_ylabel('Political leaning questions')\n",
        "b.set_yticklabels(b.get_yticklabels(), size = 9)\n",
        "#b.set_xticklabels(FN_columns, size = 9)\n",
        "\n",
        "plt.show()"
      ],
      "execution_count": null,
      "outputs": [
        {
          "output_type": "display_data",
          "data": {
            "image/png": "[encoded data removed]",
            "text/plain": [
              "<Figure size 792x648 with 2 Axes>"
            ]
          },
          "metadata": {
            "tags": [],
            "needs_background": "light"
          }
        }
      ]
    },
    {
      "cell_type": "markdown",
      "metadata": {
        "id": "hsR1-H4eoFy5"
      },
      "source": [
        "The other method rejects this hypothesis altogether. The analysis of linear regression has shown only Extraversion to be a predictive factor for Political leaning (M=-0.3, SD=0.12, P=.02 for linear coefficient)"
      ]
    },
    {
      "cell_type": "code",
      "metadata": {
        "id": "lccwKjCXoHl3",
        "colab": {
          "base_uri": "https://localhost:8080/",
          "height": 521
        },
        "outputId": "e655cc4f-ac75-472c-ad99-e150ddb68b16"
      },
      "source": [
        "X=Features.loc[:,Personality_traits.columns]\n",
        "y=Features['Political_score']\n",
        "df_coefs,model=get_regression_summary(X,y)\n",
        "sns.jointplot(x=X[df_coefs.index[0]],y=y,kind=\"reg\")\n",
        "df_coefs"
      ],
      "execution_count": null,
      "outputs": [
        {
          "output_type": "stream",
          "text": [
            "F-statistic p_value 0.105\n"
          ],
          "name": "stdout"
        },
        {
          "output_type": "execute_result",
          "data": {
            "text/html": [
              "<div>\n",
              "<style scoped>\n",
              "    .dataframe tbody tr th:only-of-type {\n",
              "        vertical-align: middle;\n",
              "    }\n",
              "\n",
              "    .dataframe tbody tr th {\n",
              "        vertical-align: top;\n",
              "    }\n",
              "\n",
              "    .dataframe thead th {\n",
              "        text-align: right;\n",
              "    }\n",
              "</style>\n",
              "<table border=\"1\" class=\"dataframe\">\n",
              "  <thead>\n",
              "    <tr style=\"text-align: right;\">\n",
              "      <th></th>\n",
              "      <th>coef</th>\n",
              "      <th>std err</th>\n",
              "      <th>P&gt;|t|</th>\n",
              "      <th>[0.025</th>\n",
              "      <th>0.975]</th>\n",
              "    </tr>\n",
              "  </thead>\n",
              "  <tbody>\n",
              "    <tr>\n",
              "      <th>Extraversion</th>\n",
              "      <td>-0.3075</td>\n",
              "      <td>0.119</td>\n",
              "      <td>0.012</td>\n",
              "      <td>-0.545</td>\n",
              "      <td>-0.07</td>\n",
              "    </tr>\n",
              "  </tbody>\n",
              "</table>\n",
              "</div>"
            ],
            "text/plain": [
              "                coef  std err  P>|t|  [0.025  0.975]\n",
              "Extraversion -0.3075    0.119  0.012  -0.545   -0.07"
            ]
          },
          "metadata": {
            "tags": []
          },
          "execution_count": 158
        },
        {
          "output_type": "display_data",
          "data": {
            "image/png": "[encoded data removed]",
            "text/plain": [
              "<Figure size 432x432 with 3 Axes>"
            ]
          },
          "metadata": {
            "tags": [],
            "needs_background": "light"
          }
        }
      ]
    },
    {
      "cell_type": "markdown",
      "metadata": {
        "id": "TivmRKOGoPVE"
      },
      "source": [
        "In the article Gerber et al. 2011 it was shown that extraverts are likely to report that they are interested in politics, watching political talk shows and network news.   \n",
        "\n",
        "In a turn, Sindermann et al. 2020 showed a small evidence on the fact that liberals tend to consume a higher number of news sources.   \n",
        "\n",
        "From this, we conclude that for Extraversion and Political leaning number of news usually consumed is a correlating trait and may work as a confounding factor for relation between these features.   \n",
        "\n",
        "In following work, given more data the information may be propagated through correlating features in order to reduce the confounding variables for considered features."
      ]
    },
    {
      "cell_type": "markdown",
      "metadata": {
        "id": "umYWH1LZmGZC"
      },
      "source": [
        "# Conclusion"
      ]
    },
    {
      "cell_type": "markdown",
      "metadata": {
        "id": "LP1ukSKUokEq"
      },
      "source": [
        "In this work, we have studied a sample of mostly undergraduate young people with Liberal to Centrist political views. We found that for this subgroup Personality traits do not impact Fake News detection performance, in contrast to Political Leaning, for which Liberals resolve fakes better than Centrists. The relations between Political leaning and Personality traits were found only for Agreeableness and Extraversion. The presence of relation for Agreeableness was already shown in previous articles, whereas for Extraversion we suggest this relation might be present due to a confounding factor, namely that Extraverts and Liberals consume news from more sources than the others. \n",
        "\n",
        "The findings of this research may help social networks to understand how susceptible to fake news their audience is. Given this data, social networks will gain possibility to distribute resources of news validation more efficiently. Moreover, during election campaigns, it is always important to understand the electorate’s susceptibility to unconfirmed statements to build a sensitive strategy of opposing accusations of the other political side and creating their announcements. \n",
        "\n",
        "We also find that the correlation is present between performance of detection specific topics and specific Political related questions or specific Personality traits. The findings seem sensible, however, they need to be tested on a higher number of Fake News questions and a more vast sample of participants. Furthermore, variety of age, education level, and political leaning should also be extended to validate possibility to extrapolate results found in this study on a more general sample of participants."
      ]
    },
    {
      "cell_type": "code",
      "metadata": {
        "id": "-_TsFMNhokaB"
      },
      "source": [
        ""
      ],
      "execution_count": null,
      "outputs": []
    }
  ]
}